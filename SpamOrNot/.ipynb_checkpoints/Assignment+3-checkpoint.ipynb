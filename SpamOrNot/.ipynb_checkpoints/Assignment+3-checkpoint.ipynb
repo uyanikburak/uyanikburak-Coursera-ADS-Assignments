{
 "cells": [
  {
   "cell_type": "markdown",
   "metadata": {},
   "source": [
    "---\n",
    "\n",
    "_You are currently looking at **version 1.1** of this notebook. To download notebooks and datafiles, as well as get help on Jupyter notebooks in the Coursera platform, visit the [Jupyter Notebook FAQ](https://www.coursera.org/learn/python-text-mining/resources/d9pwm) course resource._\n",
    "\n",
    "---"
   ]
  },
  {
   "cell_type": "markdown",
   "metadata": {},
   "source": [
    "# Assignment 3\n",
    "\n",
    "In this assignment you will explore text message data and create models to predict if a message is spam or not. "
   ]
  },
  {
   "cell_type": "code",
   "execution_count": 1,
   "metadata": {},
   "outputs": [
    {
     "data": {
      "text/html": [
       "<div>\n",
       "<style scoped>\n",
       "    .dataframe tbody tr th:only-of-type {\n",
       "        vertical-align: middle;\n",
       "    }\n",
       "\n",
       "    .dataframe tbody tr th {\n",
       "        vertical-align: top;\n",
       "    }\n",
       "\n",
       "    .dataframe thead th {\n",
       "        text-align: right;\n",
       "    }\n",
       "</style>\n",
       "<table border=\"1\" class=\"dataframe\">\n",
       "  <thead>\n",
       "    <tr style=\"text-align: right;\">\n",
       "      <th></th>\n",
       "      <th>text</th>\n",
       "      <th>target</th>\n",
       "    </tr>\n",
       "  </thead>\n",
       "  <tbody>\n",
       "    <tr>\n",
       "      <th>0</th>\n",
       "      <td>Go until jurong point, crazy.. Available only ...</td>\n",
       "      <td>0</td>\n",
       "    </tr>\n",
       "    <tr>\n",
       "      <th>1</th>\n",
       "      <td>Ok lar... Joking wif u oni...</td>\n",
       "      <td>0</td>\n",
       "    </tr>\n",
       "    <tr>\n",
       "      <th>2</th>\n",
       "      <td>Free entry in 2 a wkly comp to win FA Cup fina...</td>\n",
       "      <td>1</td>\n",
       "    </tr>\n",
       "    <tr>\n",
       "      <th>3</th>\n",
       "      <td>U dun say so early hor... U c already then say...</td>\n",
       "      <td>0</td>\n",
       "    </tr>\n",
       "    <tr>\n",
       "      <th>4</th>\n",
       "      <td>Nah I don't think he goes to usf, he lives aro...</td>\n",
       "      <td>0</td>\n",
       "    </tr>\n",
       "    <tr>\n",
       "      <th>5</th>\n",
       "      <td>FreeMsg Hey there darling it's been 3 week's n...</td>\n",
       "      <td>1</td>\n",
       "    </tr>\n",
       "    <tr>\n",
       "      <th>6</th>\n",
       "      <td>Even my brother is not like to speak with me. ...</td>\n",
       "      <td>0</td>\n",
       "    </tr>\n",
       "    <tr>\n",
       "      <th>7</th>\n",
       "      <td>As per your request 'Melle Melle (Oru Minnamin...</td>\n",
       "      <td>0</td>\n",
       "    </tr>\n",
       "    <tr>\n",
       "      <th>8</th>\n",
       "      <td>WINNER!! As a valued network customer you have...</td>\n",
       "      <td>1</td>\n",
       "    </tr>\n",
       "    <tr>\n",
       "      <th>9</th>\n",
       "      <td>Had your mobile 11 months or more? U R entitle...</td>\n",
       "      <td>1</td>\n",
       "    </tr>\n",
       "  </tbody>\n",
       "</table>\n",
       "</div>"
      ],
      "text/plain": [
       "                                                text  target\n",
       "0  Go until jurong point, crazy.. Available only ...       0\n",
       "1                      Ok lar... Joking wif u oni...       0\n",
       "2  Free entry in 2 a wkly comp to win FA Cup fina...       1\n",
       "3  U dun say so early hor... U c already then say...       0\n",
       "4  Nah I don't think he goes to usf, he lives aro...       0\n",
       "5  FreeMsg Hey there darling it's been 3 week's n...       1\n",
       "6  Even my brother is not like to speak with me. ...       0\n",
       "7  As per your request 'Melle Melle (Oru Minnamin...       0\n",
       "8  WINNER!! As a valued network customer you have...       1\n",
       "9  Had your mobile 11 months or more? U R entitle...       1"
      ]
     },
     "execution_count": 1,
     "metadata": {},
     "output_type": "execute_result"
    }
   ],
   "source": [
    "import pandas as pd\n",
    "import numpy as np\n",
    "from notebook.services.config import ConfigManager\n",
    "cm = ConfigManager().update('notebook', {'limit_output': 5})\n",
    "\n",
    "spam_data = pd.read_csv('spam.csv')\n",
    "\n",
    "spam_data['target'] = np.where(spam_data['target']=='spam',1,0)\n",
    "spam_data.head(10)"
   ]
  },
  {
   "cell_type": "code",
   "execution_count": 2,
   "metadata": {},
   "outputs": [],
   "source": [
    "from sklearn.model_selection import train_test_split\n",
    "\n",
    "\n",
    "X_train, X_test, y_train, y_test = train_test_split(spam_data['text'], \n",
    "                                                    spam_data['target'], \n",
    "                                                    random_state=0)"
   ]
  },
  {
   "cell_type": "markdown",
   "metadata": {},
   "source": [
    "### Question 1\n",
    "What percentage of the documents in `spam_data` are spam?\n",
    "\n",
    "*This function should return a float, the percent value (i.e. $ratio * 100$).*"
   ]
  },
  {
   "cell_type": "code",
   "execution_count": 3,
   "metadata": {},
   "outputs": [],
   "source": [
    "def answer_one():\n",
    "    x = len(spam_data[spam_data['target'] == 1])\n",
    "    y = len(spam_data['target'])\n",
    "    \n",
    "    return 100*x/y"
   ]
  },
  {
   "cell_type": "code",
   "execution_count": 4,
   "metadata": {},
   "outputs": [
    {
     "data": {
      "text/plain": [
       "13.406317300789663"
      ]
     },
     "execution_count": 4,
     "metadata": {},
     "output_type": "execute_result"
    }
   ],
   "source": [
    "answer_one()"
   ]
  },
  {
   "cell_type": "markdown",
   "metadata": {},
   "source": [
    "### Question 2\n",
    "\n",
    "Fit the training data `X_train` using a Count Vectorizer with default parameters.\n",
    "\n",
    "What is the longest token in the vocabulary?\n",
    "\n",
    "*This function should return a string.*"
   ]
  },
  {
   "cell_type": "code",
   "execution_count": 5,
   "metadata": {},
   "outputs": [],
   "source": [
    "from sklearn.feature_extraction.text import CountVectorizer\n",
    "\n",
    "def answer_two():\n",
    "    \n",
    "    vect = CountVectorizer().fit(X_train)\n",
    "    res = max(vect.get_feature_names(), key = len)\n",
    "    print(X_train)\n",
    "    print(vect.get_feature_names())\n",
    "    return res"
   ]
  },
  {
   "cell_type": "code",
   "execution_count": 6,
   "metadata": {
    "scrolled": true
   },
   "outputs": [
    {
     "name": "stdout",
     "output_type": "stream",
     "text": [
      "872                       I'll text you when I drop x off\n",
      "831     Hi mate its RV did u hav a nice hol just a mes...\n",
      "1273    network operator. The service is free. For T &...\n",
      "3314    FREE MESSAGE Activate your 500 FREE Text Messa...\n",
      "4929    Hi, the SEXYCHAT girls are waiting for you to ...\n",
      "                              ...                        \n",
      "4931                Match started.india  &lt;#&gt;  for 2\n",
      "3264    44 7732584351, Do you want a New Nokia 3510i c...\n",
      "1653    I was at bugis juz now wat... But now i'm walk...\n",
      "2607    :-) yeah! Lol. Luckily i didn't have a starrin...\n",
      "2732    How dare you stupid. I wont tell anything to y...\n",
      "Name: text, Length: 4179, dtype: object\n",
      "['00', '000', '000pes', '008704050406', '0089', '0121', '01223585236', '01223585334', '0125698789', '02', '0207', '02072069400', '02073162414', '02085076972', '021', '03', '04', '0430', '05', '0578', '06', '07008009200', '07099833605', '07123456789', '0721072', '07734396839', '07742676969', '07753741225', '0776xxxxxxx', '07781482378', '07786200117', '077xxx', '078', '07808247860', '07808726822', '07821230901', '078498', '07880867867', '0789xxxxxxx', '07946746291', '0796xxxxxx', '07973788240', '07xxxxxxxxx', '08', '0800', '08000407165', '08000839402', '08000930705', '08000938767', '08001950382', '08002888812', '08002986030', '08002986906', '08006344447', '0808', '08081263000', '08081560665', '0825', '0844', '08448350055', '08448714184', '0845', '08452810071', '08452810073', '08452810075over18', '0870', '08700435505150p', '08700469649', '08700621170150p', '08701213186', '08701237397', '08701417012', '08701417012150p', '087016248', '08701752560', '087018728737', '0870241182716', '08702840625', '08704050406', '08704439680', '08704439680ts', '08706091795', '08707509020', '08707808226', '08708034412', '08708800282', '08709222922', '0871', '087104711148', '08712101358', '08712103738', '0871212025016', '08712300220', '087123002209am', '08712317606', '08712400602450p', '08712400603', '08712402050', '08712402578', '08712402779', '08712402902', '08712404000', '08712405020', '08712405022', '08712460324', '08712466669', '0871277810710p', '0871277810910p', '08714712379', '08714712388', '08714714011', '08715203649', '08715203677', '08715203694', '08715205273', '08715500022', '08715705022', '08717111821', '08717168528', '08717205546', '0871750', '08717507382', '08717890890å', '08717895698', '08717898035', '08718711108', '08718720201', '08718725756', '08718726270', '087187262701', '08718726978', '087187272008', '08718727868', '08718727870', '08718730666', '08718738001', '08718738002', '08719180219', '08719180248', '08719181259', '08719181503', '08719839835', '08719899229', '09', '09041940223', '09050000301', '09050000332', '09050000555', '09050000878', '09050001295', '09050001808', '09050002311', '09050003091', '09050090044', '09050280520', '09053750005', '09056242159', '09057039994', '09058091854', '09058094454', '09058094455', '09058094583', '09058094594', '09058094597', '09058094599', '09058095201', '09058097189', '09058097218', '09058098002', '09058099801', '09061104276', '09061104283', '09061209465', '09061213237', '09061221061', '09061221066', '09061701444', '09061701461', '09061701851', '09061701939', '09061702893', '09061743386', '09061743806', '09061743810', '09061744553', '09061749602', '09061790121', '09061790126', '09063440451', '09063442151', '09063458130', '09064011000', '09064012103', '09064012160', '09064015307', '09064017295', '09064017305', '09064018838', '09064019014', '09064019788', '09065069154', '09065171142', '09065174042', '09065394514', '09065989182', '09066358152', '09066358361', '09066361921', '09066362206', '09066362220', '09066362231', '09066364311', '09066364589', '09066368327', '09066368470', '09066368753', '09066380611', '09066382422', '09066612661', '09066649731from', '09066660100', '09071512432', '09071517866', '09077818151', '09094100151', '09094646631', '09094646899', '09096102316', '09099726395', '09099726553', '09111030116', '09111032124', '09701213186', '0a', '10', '100', '1000', '1000call', '1000s', '100p', '100percent', '100txt', '1013', '1030', '10am', '10k', '10p', '10ppm', '10th', '11', '113', '114', '116', '118p', '11mths', '11pm', '12', '121', '1225', '123', '125', '125gift', '128', '12hours', '12hrs', '12mths', '13', '130', '1327', '14', '1405', '140ppm', '145', '1450', '146tf150p', '14thmarch', '15', '150', '1500', '150p', '150p16', '150pm', '150ppermesssubscription', '150ppm', '150ppmpobox10183bhamb64xe', '150pw', '151', '153', '15541', '15pm', '16', '1680', '169', '177', '18', '1843', '18p', '18yrs', '195', '1956669', '1apple', '1b6a5ecef91ff9', '1cup', '1er', '1hr', '1lemon', '1mega', '1million', '1pm', '1st', '1st4terms', '1stchoice', '1stone', '1thing', '1tulsi', '1win150ppmx3', '1winaweek', '1winawk', '1x150p', '1yf', '20', '200', '2000', '2003', '2004', '2005', '2006', '2007', '200p', '2025050', '20m12aq', '20p', '21', '21870000', '21st', '22', '220', '220cm2', '2309', '23f', '23g', '24', '24hrs', '24m', '24th', '25', '250', '250k', '255', '25p', '26', '2667', '26th', '27', '28', '2814032', '28days', '28th', '29', '2b', '2bold', '2c', '2channel', '2day', '2end', '2exit', '2find', '2getha', '2geva', '2go', '2hrs', '2kbsubject', '2lands', '2marrow', '2moro', '2morow', '2morro', '2morrow', '2morrowxxxx', '2mrw', '2nd', '2nite', '2optout', '2p', '2price', '2px', '2rcv', '2stop', '2stoptx', '2stoptxt', '2u', '2u2', '2waxsto', '2wks', '2wt', '2years', '2yr', '30', '300', '3000', '300603', '300603t', '3030', '30ish', '30pm', '30pp', '30s', '30th', '31', '3100', '310303', '31p', '32', '326', '33', '350', '3510i', '3650', '36504', '3680', '373', '3750', '37819', '382', '391784', '3aj', '3d', '3g', '3gbp', '3hrs', '3lp', '3miles', '3mins', '3mobile', '3optical', '3pound', '3qxj9', '3rd', '3ss', '3uz', '3wks', '3xx', '3xå', '40', '400', '400mins', '402', '4041', '40411', '40533', '40gb', '4217', '42478', '430', '434', '44', '440', '4403ldnw1a7rw18', '447801259231', '448712404000', '449050000301', '45', '450', '450p', '45239', '45pm', '4742', '48', '4882', '48922', '49557', '4a', '4d', '4eva', '4fil', '4get', '4goten', '4info', '4jx', '4mths', '4qf2', '4t', '4th', '4the', '4thnov', '4txt', '4u', '4utxt', '4w', '4wrd', '4years', '50', '500', '5000', '505060', '50award', '50ea', '50gbp', '50p', '50perweeksub', '50perwksub', '50pm', '50pmmorefrommobile2bremoved', '50ppm', '50s', '515', '526', '528', '530', '54', '542', '5digital', '5free', '5k', '5min', '5p', '5pm', '5th', '5wb', '5we', '5wkg', '5wq', '5years', '600', '6031', '60p', '61', '61200', '61610', '62220cncl', '62468', '62735', '630', '645', '65', '650', '66', '6669', '674', '67441233', '68866', '69101', '69200', '69669', '69696', '69698', '69855', '69866', '69888', '69888nyt', '69911', '69969', '6days', '6hl', '6hrs', '6ish', '6missed', '6months', '6ph', '6pm', '6th', '6wu', '6zf', '700', '71', '7250', '7250i', '731', '74355', '75', '750', '7548', '75max', '762', '77', '7732584351', '78', '786', '7876150ppm', '79', '7ish', '7oz', '7pm', '7th', '7ws', '800', '8000930705', '80062', '8007', '80082', '80086', '80122300p', '80160', '80182', '8027', '80488', '80608', '8077', '80878', '81010', '81151', '81303', '81618', '82050', '82242', '82277', '82324', '83021', '83039', '83049', '83110', '83118', '83222', '83332', '83355', '83370', '83383', '83435', '83600', '83738', '84025', '84128', '84199', '85', '850', '85023', '8552', '85555', '86021', '861', '86688', '86888', '87021', '87066', '87070', '87077', '87121', '87131', '8714714', '872', '87239', '87575', '8800', '88039', '88066', '88088', '88222', '88600', '88800', '8883', '88888', '89034', '89080', '89123', '89545', '89555', '89693', '89938', '8am', '8lb', '8p', '8pm', '8th', '8wp', '900', '9061100010', '910', '9153', '9280114', '930', '946', '95', '9755', '9758', '97n7qp', '98321561', '99', '9996', '9ae', '9am', '9ja', '9pm', '9t', '9yt', '____', 'a21', 'a30', 'aa', 'aah', 'aaniye', 'aaooooright', 'aathi', 'ab', 'abbey', 'abdomen', 'abel', 'abi', 'ability', 'abiola', 'abj', 'able', 'abnormally', 'about', 'aboutas', 'above', 'abroad', 'absence', 'absolutly', 'abstract', 'abt', 'abta', 'aburo', 'ac', 'academic', 'acc', 'accent', 'accenture', 'accept', 'access', 'accidant', 'accident', 'accidentally', 'accommodation', 'accommodationvouchers', 'accomodate', 'accomodations', 'accordin', 'accordingly', 'account', 'accounting', 'accounts', 'accumulation', 'ache', 'achieve', 'acid', 'acl03530150pm', 'acnt', 'aco', 'across', 'act', 'acted', 'acting', 'action', 'activ8', 'activate', 'active', 'activities', 'actor', 'actual', 'actually', 'ad', 'adam', 'add', 'addamsfa', 'added', 'addicted', 'addie', 'adding', 'address', 'adds', 'adewale', 'admin', 'administrator', 'admirer', 'admission', 'admit', 'adore', 'adress', 'adrian', 'ads', 'adsense', 'adult', 'adults', 'advance', 'adventure', 'advice', 'advise', 'advisors', 'aeronautics', 'aeroplane', 'affair', 'affairs', 'affection', 'affectionate', 'affections', 'afford', 'afraid', 'africa', 'african', 'aft', 'after', 'afternoon', 'afternoons', 'aftr', 'ag', 'again', 'against', 'agalla', 'age', 'age16', 'age23', 'agency', 'agent', 'agents', 'ages', 'agidhane', 'ago', 'agree', 'ah', 'aha', 'ahead', 'ahhhh', 'ahmad', 'ahold', 'aids', 'aig', 'aight', 'ain', 'aint', 'air', 'air1', 'airport', 'airtel', 'aiya', 'aiyah', 'aiyar', 'aiyo', 'ajith', 'ak', 'aka', 'akon', 'al', 'alaikkum', 'alaipayuthe', 'album', 'alcohol', 'aldrine', 'alert', 'alertfrom', 'alerts', 'aletter', 'alex', 'alfie', 'algarve', 'algebra', 'ali', 'alian', 'alibi', 'alive', 'all', 'allah', 'allalo', 'allday', 'alle', 'allo', 'allow', 'allowed', 'almost', 'alone', 'along', 'alot', 'already', 'alright', 'alrite', 'also', 'alter', 'alternative', 'although', 'aluable', 'alwa', 'always', 'alwys', 'am', 'amanda', 'amazing', 'ambitious', 'ambrith', 'american', 'amigos', 'ammae', 'ammo', 'among', 'amongst', 'amore', 'amount', 'amp', 'amplikater', 'ams', 'amt', 'amused', 'amy', 'an', 'ana', 'anal', 'analysis', 'anand', 'and', 'anderson', 'andre', 'andres', 'andrews', 'andros', 'angry', 'animation', 'anjie', 'anjola', 'anna', 'annie', 'anniversary', 'announcement', 'annoying', 'anot', 'another', 'ans', 'ansr', 'answer', 'answered', 'answerin', 'answering', 'answers', 'answr', 'antelope', 'antibiotic', 'any', 'anybody', 'anymore', 'anyone', 'anyones', 'anyplaces', 'anythiing', 'anythin', 'anything', 'anythingtomorrow', 'anytime', 'anyway', 'anyways', 'anywhere', 'aom', 'apart', 'apartment', 'apeshit', 'aphexåõs', 'apo', 'apologise', 'app', 'apparently', 'appeal', 'appear', 'appendix', 'applausestore', 'applebees', 'apples', 'application', 'apply', 'applyed', 'appointment', 'appointments', 'appreciate', 'appreciated', 'approaches', 'approaching', 'appropriate', 'approve', 'approved', 'approx', 'apps', 'appt', 'appy', 'april', 'apt', 'aptitude', 'aquarius', 'ar', 'arabian', 'arcade', 'archive', 'ard', 'are', 'area', 'aren', 'arent', 'arestaurant', 'aretaking', 'areyouunique', 'argentina', 'argh', 'argue', 'arguing', 'argument', 'arguments', 'aries', 'arise', 'arises', 'arithmetic', 'arm', 'armand', 'armenia', 'arms', 'arng', 'arngd', 'arnt', 'around', 'aroundn', 'arrange', 'arranging', 'arrested', 'arrival', 'arrive', 'arrived', 'arrow', 'arsenal', 'art', 'artists', 'arts', 'arty', 'arul', 'arun', 'as', 'asap', 'asda', 'ashes', 'ashley', 'ashwini', 'asjesus', 'ask', 'askd', 'asked', 'askin', 'asking', 'asks', 'asleep', 'aspects', 'ass', 'assessment', 'assistance', 'associate', 'asssssholeeee', 'assume', 'assumed', 'asthere', 'asthma', 'astne', 'astronomer', 'asusual', 'at', 'ate', 'athletic', 'athome', 'atlanta', 'atlast', 'atleast', 'atm', 'atrocious', 'attached', 'attack', 'attempt', 'atten', 'attend', 'attended', 'attending', 'attention', 'attitude', 'attractive', 'attracts', 'attributed', 'atural', 'auction', 'audition', 'audrey', 'august', 'aunt', 'auntie', 'aunties', 'aunts', 'aunty', 'aust', 'australia', 'authorise', 'auto', 'av', 'availa', 'available', 'avalarr', 'avatar', 'ave', 'avenge', 'avent', 'avenue', 'avin', 'avoid', 'avoiding', 'avoids', 'await', 'awaiting', 'awake', 'award', 'awarded', 'away', 'awesome', 'awkward', 'aww', 'awww', 'ax', 'axel', 'ay', 'ayn', 'ayo', 'b4', 'b4190604', 'b4280703', 'b4u', 'b4utele', 'ba128nnfwfly150ppm', 'baaaaaaaabe', 'baaaaabe', 'babe', 'babes', 'babies', 'baby', 'babygoodbye', 'babyjontet', 'babysit', 'babysitting', 'bac', 'back', 'backdoor', 'backwards', 'bad', 'badass', 'badrith', 'bag', 'bags', 'bahamas', 'baig', 'bailiff', 'bak', 'bakra', 'bakrid', 'balance', 'ball', 'baller', 'balloon', 'balls', 'bambling', 'band', 'bandages', 'bang', 'bangb', 'bangbabes', 'bank', 'banks', 'banned', 'banneduk', 'banter', 'bar', 'barbie', 'bare', 'barely', 'bari', 'barkleys', 'barolla', 'barry', 'bars', 'base', 'based', 'basic', 'basically', 'basketball', 'bat', 'batch', 'batchlor', 'bath', 'bathe', 'bathing', 'batsman', 'batt', 'battery', 'bawling', 'bay', 'bb', 'bbc', 'bbd', 'bbq', 'bc', 'bcaz', 'bck', 'bcm', 'bcm1896wc1n3xx', 'bcm4284', 'bcmsfwc1n3xx', 'bcoz', 'bcums', 'bday', 'be', 'beach', 'beads', 'bear', 'bears', 'beauties', 'beautiful', 'beauty', 'bec', 'because', 'becausethey', 'become', 'becomes', 'becoz', 'becz', 'bed', 'bedroom', 'beehoon', 'been', 'beendropping', 'beer', 'beerage', 'beers', 'before', 'beg', 'beggar', 'begging', 'begin', 'begun', 'behave', 'behind', 'bein', 'being', 'believe', 'belive', 'bell', 'bellearlier', 'belligerent', 'belly', 'belong', 'belongs', 'belovd', 'beloved', 'belt', 'ben', 'bend', 'beneath', 'beneficiary', 'benefits', 'bergkamp', 'beside', 'best', 'best1', 'bet', 'beta', 'beth', 'better', 'bettersn', 'bettr', 'between', 'beverage', 'bevies', 'beware', 'beyond', 'bf', 'bffs', 'bfore', 'bhaskar', 'bhayandar', 'bian', 'biatch', 'bid', 'bids', 'big', 'bigger', 'biggest', 'bill', 'billed', 'billing', 'billion', 'bills', 'billy', 'bilo', 'bimbo', 'bin', 'biola', 'bird', 'birds', 'birla', 'biro', 'birth', 'birthdate', 'birthday', 'bishan', 'bit', 'bitch', 'bitching', 'bite', 'bites', 'biz', 'bk', 'black', 'blackberry', 'blacko', 'blah', 'blake', 'blame', 'blank', 'blanked', 'blanket', 'blankets', 'blastin', 'bless', 'blessed', 'blessing', 'blessings', 'block', 'blogging', 'blogspot', 'bloke', 'blonde', 'bloo', 'blood', 'bloody', 'blow', 'blown', 'blu', 'blue', 'bluetooth', 'bluetoothhdset', 'bluff', 'blur', 'bmw', 'boat', 'bob', 'body', 'boggy', 'bognor', 'bold', 'boltblue', 'bone', 'bong', 'bonus', 'boo', 'boobs', 'book', 'booked', 'bookedthe', 'booking', 'books', 'bookshelf', 'boooo', 'boost', 'booty', 'bootydelious', 'borderline', 'bored', 'borin', 'boring', 'born', 'borrow', 'boss', 'boston', 'bot', 'both', 'bother', 'bottle', 'bottom', 'bought', 'boughtåóbraindanceåóa', 'boundaries', 'bout', 'bowa', 'bowl', 'bowls', 'box', 'box1146', 'box139', 'box177', 'box326', 'box334', 'box334sk38ch', 'box385', 'box39822', 'box403', 'box420', 'box42wr29c', 'box61', 'box95qu', 'box97n7qp', 'boy', 'boye', 'boyfriend', 'boys', 'boytoy', 'bpo', 'brah', 'brain', 'brainless', 'brains', 'brand', 'brandy', 'bras', 'brats', 'braved', 'bray', 'brb', 'brdget', 'bread', 'break', 'breakfast', 'breakin', 'breaking', 'breaks', 'breath', 'breathe', 'breather', 'breathing', 'breeze', 'breezy', 'bridal', 'bridge', 'bridgwater', 'brief', 'bright', 'brighten', 'brilliant', 'brilliantly', 'brin', 'bring', 'bringing', 'brings', 'brisk', 'brison', 'bristol', 'british', 'bro', 'broad', 'broadband', 'broke', 'broken', 'brolly', 'bros', 'broth', 'brothas', 'brother', 'brothers', 'brought', 'brown', 'brownie', 'brownies', 'browse', 'browser', 'browsin', 'bruce', 'brum', 'bslvyl', 'bsnl', 'bstfrnd', 'bt', 'btw', 'btwn', 'bucks', 'bud', 'buddys', 'budget', 'buen', 'buff', 'buffet', 'buffy', 'bugis', 'build', 'building', 'built', 'bulbs', 'bull', 'bullshit', 'bunch', 'buns', 'burden', 'burger', 'burgundy', 'burn', 'burning', 'burns', 'burnt', 'burrito', 'bus', 'bus8', 'buses', 'busetop', 'business', 'busy', 'but', 'butt', 'buttheres', 'butting', 'buttons', 'buy', 'buying', 'buzy', 'buzz', 'buzzzz', 'bw', 'bx', 'bx420', 'bx526', 'by', 'byatch', 'bye', 'byåóleafcutter', 'båõday', 'c52', 'cab', 'cabin', 'cable', 'cafe', 'cage', 'cake', 'cakes', 'cal', 'calculated', 'calculation', 'cali', 'calicut', 'california', 'call', 'call2optout', 'callback', 'callcost150ppmmobilesvary', 'calld', 'called', 'caller', 'callers', 'callertune', 'callfreefone', 'callin', 'calling', 'calls', 'calls1', 'callså', 'calm', 'cam', 'camcorder', 'came', 'camera', 'campus', 'camry', 'can', 'canada', 'canal', 'canary', 'cancel', 'canceled', 'cancelled', 'cancer', 'canlove', 'cann', 'canname', 'cannot', 'cant', 'cantdo', 'canteen', 'capacity', 'capital', 'cappuccino', 'caps', 'captain', 'captaining', 'car', 'card', 'cardiff', 'cardin', 'cards', 'care', 'careabout', 'cared', 'career', 'careful', 'carefully', 'careless', 'cares', 'caring', 'carlie', 'carlos', 'carly', 'carolina', 'caroline', 'carpark', 'carry', 'carryin', 'cars', 'cartoon', 'case', 'cash', 'cashbin', 'cashto', 'casing', 'cast', 'casting', 'castor', 'casualty', 'cat', 'catch', 'catching', 'categories', 'caught', 'cause', 'causes', 'causing', 'cave', 'caveboy', 'cbe', 'cc', 'cc100p', 'cd', 'cdgt', 'cds', 'ceiling', 'celeb', 'celebrate', 'celebrated', 'celebration', 'celebrations', 'cell', 'census', 'center', 'centre', 'cereals', 'certainly', 'certificate', 'cha', 'chachi', 'chad', 'chain', 'challenge', 'challenging', 'champlaxigating', 'champneys', 'chance', 'chances', 'change', 'changed', 'changes', 'changing', 'chapel', 'chaps', 'character', 'characters', 'charge', 'charged', 'charges', 'charity', 'charles', 'charlie', 'charming', 'chart', 'charts', 'chase', 'chasing', 'chat', 'chatlines', 'chatting', 'cheap', 'cheaper', 'cheat', 'cheating', 'chechi', 'check', 'checkboxes', 'checked', 'checkin', 'checking', 'checkmate', 'checkup', 'cheek', 'cheer', 'cheered', 'cheers', 'cheery', 'cheese', 'cheesy', 'cheetos', 'chef', 'chennai', 'cherish', 'cherthala', 'chess', 'chest', 'chex', 'cheyyamo', 'chg', 'chgs', 'chic', 'chick', 'chicken', 'chickened', 'chief', 'chik', 'chikku', 'child', 'childish', 'childporn', 'children', 'childrens', 'chile', 'chill', 'chillaxin', 'chillin', 'china', 'chinatown', 'chinchillas', 'chinese', 'chinky', 'chinnu', 'chip', 'chit', 'chk', 'chloe', 'choice', 'choices', 'choose', 'chop', 'chords', 'chosen', 'chrgd', 'christ', 'christians', 'christmas', 'christmassy', 'chuckin', 'church', 'ciao', 'cine', 'cinema', 'citizen', 'city', 'cl', 'claim', 'claimcode', 'claims', 'claire', 'clarify', 'clark', 'clas', 'clash', 'class', 'classes', 'classic', 'classmates', 'claypot', 'cld', 'clean', 'cleaning', 'clear', 'cleared', 'clearer', 'clearing', 'clearly', 'clever', 'click', 'cliffs', 'clock', 'clocks', 'clos1', 'close', 'closeby', 'closed', 'closer', 'closes', 'closingdate04', 'cloth', 'clothes', 'cloud', 'clover', 'club', 'club4', 'club4mobiles', 'clubsaisai', 'clubzed', 'cm', 'cm2', 'cme', 'cn', 'cnl', 'cnn', 'cnupdates', 'co', 'coast', 'coaxing', 'coccooning', 'cochin', 'cock', 'cocksuckers', 'coco', 'code', 'coffee', 'coherently', 'coimbatore', 'coin', 'coincidence', 'coins', 'colany', 'cold', 'colin', 'collages', 'collapsed', 'colleagues', 'collect', 'collected', 'collecting', 'collection', 'colleg', 'college', 'color', 'colour', 'colourful', 'colours', 'com', 'com1win150ppmx3age16', 'com1win150ppmx3age16subscription', 'comb', 'combination', 'combine', 'come', 'comedy', 'comes', 'comfey', 'comfort', 'comin', 'coming', 'comingdown', 'comment', 'commercial', 'commit', 'common', 'community', 'como', 'comp', 'companies', 'companion', 'company', 'compare', 'compass', 'compensation', 'competition', 'complacent', 'complain', 'complaining', 'complementary', 'complete', 'completed', 'completely', 'completes', 'completing', 'complexities', 'complimentary', 'compliments', 'compulsory', 'computational', 'computer', 'computerless', 'comuk', 'conacted', 'concentrate', 'concentrating', 'concentration', 'concern', 'concerned', 'concert', 'conclusion', 'condition', 'conditions', 'conducts', 'confidence', 'configure', 'confirm', 'confirmd', 'confirmed', 'conform', 'confused', 'confuses', 'congrats', 'congratulations', 'connect', 'connected', 'connection', 'cons', 'consensus', 'consent', 'conserve', 'consider', 'considering', 'consistently', 'console', 'constant', 'constantly', 'contact', 'contacted', 'contacts', 'contains', 'content', 'contented', 'contention', 'contents', 'continent', 'continue', 'continued', 'contract', 'contribute', 'control', 'convenience', 'conversations', 'converted', 'converter', 'convey', 'conveying', 'convince', 'convinced', 'convincing', 'cook', 'cooked', 'cookies', 'cooking', 'cool', 'cooped', 'copied', 'copies', 'coping', 'copy', 'cornwall', 'corporation', 'correct', 'correction', 'correctly', 'cos', 'cost', 'costa', 'costing', 'costs', 'costume', 'costå', 'cougar', 'cough', 'coughing', 'could', 'couldn', 'count', 'countin', 'countinlots', 'country', 'counts', 'coupla', 'couple', 'courage', 'courageous', 'course', 'cousin', 'cover', 'coveragd', 'covers', 'coz', 'cozy', 'cps', 'cr', 'cr01327bt', 'cr9', 'crab', 'crack', 'craigslist', 'cramps', 'crap', 'crash', 'crashed', 'crashing', 'crave', 'crazy', 'crckt', 'cream', 'created', 'creative', 'creativity', 'credit', 'credited', 'credits', 'creep', 'creepy', 'cres', 'cribbs', 'cricket', 'crickiting', 'cried', 'crisis', 'cro1327', 'cross', 'crossing', 'crowd', 'croydon', 'crucial', 'cruel', 'cruise', 'cruisin', 'cry', 'crying', 'cs', 'csbcm4235wc1n3xx', 'csc', 'csh11', 'cst', 'cstore', 'ctagg', 'ctargg', 'cthen', 'ctla', 'cts', 'cttargg', 'ctter', 'cttergg', 'ctxt', 'cuck', 'cud', 'cuddle', 'cuddled', 'cuddling', 'cudnt', 'culdnt', 'cultures', 'cum', 'cumin', 'cumming', 'cup', 'cupboard', 'curfew', 'current', 'currently', 'curry', 'curtsey', 'cust', 'custcare', 'custom', 'customer', 'customercare', 'customers', 'customersqueries', 'cut', 'cute', 'cutefrnd', 'cutest', 'cutie', 'cutter', 'cutting', 'cuz', 'cw25wx', 'cysts', 'd3wv', 'da', 'daaaaa', 'dabbles', 'dabooks', 'dad', 'daddy', 'dads', 'dai', 'daily', 'dammit', 'damn', 'dance', 'dancin', 'dancing', 'dang', 'danger', 'dangerous', 'dare', 'dark', 'darker', 'darkest', 'darkness', 'darlin', 'darling', 'darlings', 'darren', 'dartboard', 'dasara', 'dat', 'data', 'date', 'datebox1282essexcm61xn', 'dates', 'dating', 'dats', 'dave', 'dawns', 'day', 'days', 'daywith', 'db', 'dbuk', 'de', 'dead', 'deal', 'dealer', 'dealing', 'dear', 'dear1', 'dearer', 'dearly', 'death', 'debating', 'decades', 'december', 'decent', 'decide', 'decided', 'deciding', 'decimal', 'decision', 'decisions', 'deck', 'declare', 'decorating', 'dedicate', 'dedicated', 'deduct', 'deep', 'deepak', 'deepest', 'deer', 'deeraj', 'def', 'defeat', 'defer', 'deficient', 'definite', 'definitely', 'degree', 'dehydrated', 'dehydration', 'del', 'delay', 'delayed', 'delete', 'deleted', 'delhi', 'deliver', 'delivered', 'deliveredtomorrow', 'delivery', 'deltomorrow', 'dem', 'demand', 'den', 'denis', 'dent', 'dental', 'dentists', 'denying', 'department', 'dependable', 'dependents', 'depends', 'deposit', 'depressed', 'depression', 'dept', 'derek', 'description', 'desert', 'deserve', 'designation', 'desires', 'desk', 'desparate', 'desperate', 'despite', 'dessert', 'destination', 'destiny', 'details', 'determine', 'determined', 'detroit', 'develop', 'developed', 'developer', 'devils', 'devouring', 'dey', 'dha', 'dhina', 'dhoni', 'dhorte', 'di', 'dial', 'dialling', 'diamond', 'diamonds', 'diapers', 'dice', 'dick', 'dict', 'dictionary', 'did', 'diddy', 'didn', 'didnt', 'didntgive', 'didnåõt', 'die', 'died', 'diesel', 'diet', 'dieting', 'diff', 'difference', 'differences', 'different', 'difficult', 'difficulties', 'dificult', 'digi', 'digital', 'digits', 'dignity', 'dileep', 'dime', 'din', 'dine', 'dined', 'dinero', 'ding', 'dinner', 'dino', 'dint', 'dip', 'dippeditinadew', 'direct', 'directly', 'director', 'dirty', 'dis', 'disappeared', 'disasters', 'disastrous', 'disc', 'disclose', 'disconnect', 'disconnected', 'discount', 'discreet', 'discuss', 'discussed', 'diseases', 'disk', 'dislikes', 'dismay', 'dismissial', 'display', 'distance', 'distract', 'disturb', 'disturbance', 'disturbing', 'ditto', 'divert', 'division', 'divorce', 'diwali', 'dl', 'dled', 'dlf', 'dload', 'dnt', 'do', 'dob', 'dobby', 'doc', 'dock', 'docs', 'doctor', 'doctors', 'dodgey', 'does', 'doesn', 'doesnt', 'doesnåõt', 'dog', 'dogbreath', 'dogg', 'doggin', 'dogging', 'doggy', 'dogs', 'dogwood', 'doin', 'doinat', 'doing', 'doit', 'doke', 'dokey', 'doll', 'dollar', 'dollars', 'dolls', 'dom', 'don', 'done', 'donno', 'dont', 'dontcha', 'dontmatter', 'donyt', 'donåõt', 'dooms', 'door', 'doors', 'dorm', 'dormitory', 'dose', 'dosomething', 'dot', 'double', 'doublemins', 'doubles', 'doubletxt', 'doubt', 'doug', 'dough', 'down', 'download', 'downloaded', 'downloads', 'downs', 'downstem', 'dozens', 'dps', 'dr', 'dracula', 'drama', 'dramastorm', 'dramatic', 'drastic', 'draw', 'dream', 'dreams', 'dress', 'dressed', 'dresser', 'drink', 'drinkin', 'drinks', 'drive', 'driver', 'drivin', 'driving', 'drizzling', 'drms', 'drop', 'dropped', 'drops', 'drove', 'drpd', 'drug', 'drugdealer', 'drugs', 'drunk', 'drunken', 'drvgsto', 'dry', 'dryer', 'dual', 'dub', 'dubsack', 'duchess', 'ducking', 'dude', 'due', 'duffer', 'dull', 'dumb', 'dump', 'dun', 'dunno', 'durban', 'durham', 'during', 'dusk', 'dust', 'dvd', 'dvg', 'dwn', 'dying', 'dysentry', 'e14', 'each', 'ear', 'earlier', 'earliest', 'early', 'earn', 'earning', 'ears', 'earth', 'easier', 'easily', 'east', 'eastenders', 'easter', 'easy', 'eat', 'eaten', 'eatin', 'eating', 'ec2a', 'eckankar', 'ecstasy', 'ed', 'edhae', 'edison', 'edu', 'education', 'educational', 'edukkukayee', 'edward', 'edwards', 'eek', 'eerie', 'eerulli', 'effect', 'effects', 'efficient', 'eg', 'egbon', 'egg', 'eggs', 'ego', 'eh', 'eight', 'eighth', 'eightish', 'eire', 'either', 'el', 'ela', 'elaborating', 'elama', 'election', 'electricity', 'elephant', 'eleven', 'elliot', 'ello', 'else', 'elsewhere', 'em', 'email', 'embarassed', 'embarassing', 'embarrassed', 'embassy', 'emc1', 'emergency', 'emigrated', 'employee', 'empty', 'en', 'enc', 'end', 'ended', 'ending', 'endless', 'ends', 'enemies', 'enemy', 'energy', 'eng', 'engaged', 'engalnd', 'england', 'english', 'enjoy', 'enjoyed', 'enjoyin', 'enjoying', 'enna', 'enough', 'ente', 'enter', 'entered', 'entire', 'entirely', 'entitled', 'entrepreneurs', 'entropication', 'entry', 'entry41', 'enufcredeit', 'enuff', 'envelope', 'environment', 'envy', 'epi', 'eppolum', 'epsilon', 'er', 'ere', 'ericsson', 'erm', 'error', 'errors', 'ertini', 'erupt', 'erutupalam', 'esaplanade', 'escalator', 'escape', 'ese', 'espe', 'especially', 'esplanade', 'essay', 'essential', 'eta', 'etc', 'ethnicity', 'ettans', 'euro', 'euro2004', 'eurodisinc', 'europe', 'eve', 'eveb', 'even', 'evening', 'evenings', 'event', 'events', 'eventually', 'ever', 'every', 'everybody', 'everyday', 'everyone', 'everyones', 'everything', 'everytime', 'everywhere', 'evey', 'eviction', 'evil', 'evn', 'evng', 'evo', 'evr', 'evrey', 'ew', 'ex', 'exact', 'exactly', 'exam', 'exams', 'excellent', 'except', 'exchanged', 'exciting', 'excuse', 'excused', 'excuses', 'exe', 'executive', 'exeter', 'exhaust', 'exhausted', 'exhibition', 'exmpel', 'exorcist', 'expect', 'expected', 'expecting', 'expects', 'expensive', 'experience', 'experiment', 'expert', 'expired', 'expires', 'explain', 'explicit', 'explicitly', 'explosive', 'express', 'expression', 'expressoffer', 'ext', 'exterminator', 'extra', 'extract', 'ey', 'eye', 'eyed', 'eyes', 'eå', 'f4q', 'fa', 'fab', 'face', 'facebook', 'fact', 'facts', 'faded', 'faggot', 'faggy', 'faglord', 'failed', 'failing', 'fails', 'failure', 'fair', 'faith', 'fake', 'fakeye', 'fal', 'falconerf', 'fall', 'falling', 'falls', 'fals', 'familiar', 'family', 'fan', 'fancied', 'fancies', 'fancy', 'fantasies', 'fantastic', 'fantasy', 'far', 'farm', 'farrell', 'farting', 'fassyole', 'fast', 'faster', 'fastest', 'fat', 'fated', 'father', 'fathima', 'fatty', 'fault', 'fav', 'fave', 'favor', 'favorite', 'favourite', 'fb', 'fear', 'feathery', 'feb', 'february', 'fed', 'feel', 'feelin', 'feeling', 'feellikw', 'feels', 'fees', 'feet', 'fell', 'fellow', 'felt', 'female', 'feng', 'festival', 'fetch', 'fetching', 'fever', 'few', 'ffectionate', 'ffffffffff', 'ffffuuuuuuu', 'fgkslpo', 'fgkslpopw', 'fidalfication', 'field', 'fieldof', 'fifa', 'fifteen', 'fifth', 'fifty', 'fight', 'fighting', 'fightng', 'figure', 'figures', 'figuring', 'file', 'files', 'fill', 'filled', 'filling', 'fills', 'film', 'films', 'filth', 'filthy', 'final', 'finalise', 'finally', 'finance', 'find', 'finding', 'finds', 'fine', 'fingers', 'finish', 'finished', 'finishing', 'fink', 'finn', 'fire', 'firefox', 'fireplace', 'fires', 'first', 'fish', 'fishhead', 'fishrman', 'fit', 'fiting', 'five', 'fix', 'fixed', 'fixedline', 'fixes', 'fizz', 'flag', 'flaked', 'flaky', 'flame', 'flash', 'flat', 'flavour', 'fletcher', 'flies', 'flight', 'flights', 'flim', 'flip', 'flippin', 'flirt', 'flirting', 'flirtparty', 'floating', 'flood', 'floor', 'florida', 'flow', 'flower', 'flowers', 'flowing', 'fluids', 'flurries', 'flute', 'fly', 'flying', 'flyng', 'fm', 'fml', 'fne', 'fo', 'fold', 'foley', 'follow', 'followed', 'following', 'follows', 'fond', 'fondly', 'fone', 'fones', 'food', 'fool', 'fooled', 'fools', 'foot', 'football', 'footbl', 'footie', 'footprints', 'for', 'force', 'forced', 'foregate', 'foreign', 'forever', 'forevr', 'forfeit', 'forget', 'forgets', 'forgiven', 'forgot', 'forgotten', 'forgt', 'form', 'formal', 'format', 'forms', 'forum', 'forums', 'forward', 'forwarded', 'forwarding', 'found', 'four', 'foward', 'fowler', 'fox', 'fps', 'fr', 'fraction', 'fran', 'frank', 'franxx', 'franyxxxxx', 'frauds', 'freak', 'freaked', 'fredericksburg', 'free', 'free2day', 'freedom', 'freeentry', 'freefone', 'freely', 'freemsg', 'freephone', 'freezing', 'fren', 'french', 'frens', 'frequently', 'fresh', 'freshers', 'fret', 'fri', 'friday', 'fried', 'friend', 'friends', 'friendsare', 'friendship', 'fring', 'fringe', 'frm', 'frnd', 'frnds', 'frndship', 'frndshp', 'frndsship', 'frndz', 'frnt', 'fro', 'frog', 'from', 'fromm', 'front', 'frontierville', 'frosty', 'frying', 'ft', 'fuck', 'fucked', 'fuckin', 'fucking', 'fuckinnice', 'fucks', 'fudge', 'fuelled', 'fujitsu', 'ful', 'fulfil', 'full', 'fullonsms', 'fumbling', 'fun', 'function', 'functions', 'fundamentals', 'funeral', 'funk', 'funky', 'funny', 'funs', 'furniture', 'further', 'fusion', 'future', 'fuuuuck', 'fwiw', 'fyi', 'g696ga', 'gage', 'gain', 'gained', 'gal', 'galileo', 'gals', 'gam', 'gamb', 'game', 'games', 'gamestar', 'gandhipuram', 'ganesh', 'gang', 'gap', 'gaps', 'garage', 'garbage', 'garden', 'gardener', 'gari', 'garments', 'gary', 'gas', 'gastroenteritis', 'gautham', 'gauti', 'gave', 'gay', 'gayle', 'gays', 'gaytextbuddy', 'gaze', 'gbp', 'gbp4', 'gbp5', 'gd', 'ge', 'gee', 'geeee', 'gei', 'gek1510', 'gender', 'general', 'generally', 'genes', 'genius', 'gent', 'gentle', 'gentleman', 'gently', 'genuine', 'geoenvironmental', 'george', 'ger', 'germany', 'get', 'getiing', 'geting', 'gets', 'getsleep', 'getstop', 'gettin', 'getting', 'getzed', 'gf', 'ghodbandar', 'ghost', 'gibbs', 'gibe', 'gift', 'gifted', 'giggle', 'gimme', 'gin', 'girl', 'girlfrnd', 'girlie', 'girls', 'gist', 'giv', 'give', 'given', 'gives', 'giving', 'glad', 'glass', 'glo', 'global', 'glorious', 'glory', 'gloucesterroad', 'gm', 'gmw', 'gn', 'gnarls', 'gnun', 'go', 'go2', 'go2sri', 'goal', 'goals', 'gobi', 'god', 'gods', 'goes', 'goggles', 'goigng', 'goin', 'going', 'gokila', 'gold', 'golddigger', 'goldviking', 'golf', 'gon', 'gona', 'gone', 'gong', 'gonna', 'gonnamissu', 'good', 'goodevening', 'goodfriend', 'goodies', 'goodmate', 'goodmorning', 'goodnight', 'goodnite', 'goodnoon', 'goods', 'google', 'gopalettan', 'gorgeous', 'gosh', 'gossip', 'got', 'gota', 'gotany', 'gotbabes', 'gotmarried', 'goto', 'gotta', 'gotten', 'gotto', 'goverment', 'govt', 'gprs', 'gpu', 'gr8', 'gr8fun', 'gr8prizes', 'grab', 'grace', 'graduated', 'grahmbell', 'gram', 'grand', 'grandfather', 'grandma', 'grandmas', 'granite', 'granted', 'grave', 'gravity', 'gravy', 'gray', 'grazed', 'gre', 'great', 'greatest', 'greatly', 'greatness', 'greece', 'green', 'greet', 'greeting', 'greetings', 'grief', 'grinder', 'grins', 'grinule', 'grl', 'grocers', 'grooved', 'groovy', 'groovying', 'ground', 'group', 'grow', 'growing', 'grr', 'grumpy', 'gsex', 'gt', 'guaranteed', 'gucci', 'gud', 'gudni8', 'gudnite', 'gudnyt', 'guess', 'guessed', 'guessin', 'guessing', 'guide', 'guides', 'guild', 'guilty', 'guitar', 'gumby', 'guoyang', 'gurl', 'gut', 'guy', 'guys', 'gving', 'gym', 'gymnastics', 'gynae', 'gyno', 'ha', 'habba', 'habit', 'hack', 'had', 'hadn', 'haf', 'haha', 'hahaha', 'hai', 'hair', 'haircut', 'haiyoh', 'haiz', 'half', 'hall', 'halla', 'hallaq', 'halloween', 'ham', 'hamper', 'hamster', 'hand', 'handed', 'handing', 'handle', 'hands', 'handset', 'handsome', 'handsomes', 'hang', 'hanger', 'hangin', 'hanging', 'hanks', 'hannaford', 'happen', 'happend', 'happened', 'happening', 'happens', 'happiest', 'happiness', 'happy', 'hard', 'hardcore', 'harder', 'hardly', 'hari', 'harish', 'harri', 'harry', 'has', 'hasbro', 'hasn', 'hasnt', 'hassling', 'hat', 'hate', 'haughaighgtujhyguj', 'haul', 'haunt', 'hav', 'have', 'haven', 'havent', 'havenåõt', 'havin', 'having', 'havn', 'havnt', 'hcl', 'hdd', 'he', 'head', 'headache', 'headin', 'heading', 'heads', 'headstart', 'heal', 'healer', 'healthy', 'heap', 'hear', 'heard', 'hearing', 'heart', 'hearted', 'hearts', 'heat', 'heaven', 'heavily', 'heavy', 'hectic', 'hee', 'heehee', 'height', 'held', 'helen', 'helens', 'hell', 'hella', 'hello', 'helloooo', 'help', 'help08700621170150p', 'help08714742804', 'help08718728876', 'helping', 'helpline', 'helps', 'heltini', 'hen', 'hence', 'henry', 'hep', 'her', 'here', 'hero', 'heroes', 'heron', 'herself', 'hes', 'hesitation', 'hex', 'hey', 'heåõs', 'hg', 'hi', 'hide', 'hides', 'hiding', 'high', 'highest', 'hilarious', 'hill', 'hills', 'hillsborough', 'him', 'himself', 'himso', 'hint', 'hiphop', 'hire', 'his', 'history', 'hit', 'hitler', 'hitman', 'hits', 'hitter', 'hiya', 'hl', 'hlp', 'hmm', 'hmmm', 'hmmmm', 'hmmross', 'hmph', 'hmv', 'hmv1', 'ho', 'hockey', 'hogidhe', 'hogli', 'hogolo', 'hol', 'holby', 'hold', 'holder', 'holding', 'hole', 'holiday', 'holla', 'hollalater', 'hols', 'holy', 'home', 'homeowners', 'hon', 'honestly', 'honesty', 'honey', 'honeybee', 'honeymoon', 'hont', 'hooch', 'hoody', 'hook', 'hooked', 'hoops', 'hop', 'hope', 'hoped', 'hopeful', 'hopefully', 'hopes', 'hoping', 'hor', 'horniest', 'horny', 'horo', 'horrible', 'horse', 'hos', 'hospital', 'hospitals', 'host', 'hostel', 'hot', 'hotel', 'hotels', 'hotmix', 'hour', 'hourish', 'hours', 'house', 'houseful', 'housewives', 'housing', 'how', 'howard', 'however', 'hows', 'howz', 'hp', 'hp20', 'hppnss', 'hr', 'hrishi', 'hrs', 'hsbc', 'html', 'http', 'huai', 'hubby', 'hudgi', 'hug', 'huge', 'hugging', 'hugs', 'huh', 'hui', 'hum', 'hun', 'hundred', 'hundreds', 'hungover', 'hungry', 'hunks', 'hunny', 'hunt', 'hunting', 'hurricanes', 'hurried', 'hurry', 'hurt', 'hurting', 'hurts', 'husband', 'hussey', 'hut', 'hv', 'hv9d', 'hvae', 'hw', 'hyde', 'hypertension', 'iam', 'ias', 'ibh', 'ibhltd', 'ibiza', 'ibm', 'ibn', 'ibored', 'ibuprofens', 'ic', 'ice', 'icic', 'icicibank', 'icon', 'id', 'idc', 'idea', 'ideal', 'ideas', 'identification', 'identifier', 'idew', 'idiot', 'idk', 'idps', 'ie', 'if', 'ig11', 'ignore', 'ignoring', 'ijust', 'ikea', 'il', 'ileave', 'ill', 'illness', 'ilol', 'im', 'images', 'imagination', 'imagine', 'imat', 'imin', 'imma', 'immed', 'immediately', 'immunisation', 'imp', 'impatient', 'implications', 'important', 'importantly', 'imposed', 'impossible', 'imposter', 'impress', 'impressed', 'impressively', 'improve', 'improved', 'imprtant', 'in', 'in2', 'inc', 'inch', 'inches', 'incident', 'inclu', 'include', 'includes', 'including', 'inclusive', 'incomm', 'inconsiderate', 'inconvenience', 'incorrect', 'incredible', 'increments', 'indeed', 'independence', 'independently', 'index', 'india', 'indian', 'indians', 'indicate', 'individual', 'indyarocks', 'inever', 'infact', 'infections', 'infernal', 'info', 'inform', 'information', 'informed', 'infra', 'infront', 'ing', 'ingredients', 'initiate', 'ink', 'inlude', 'inmind', 'inner', 'innings', 'innocent', 'innu', 'inperialmusic', 'inr', 'insects', 'insha', 'inshah', 'inside', 'inspection', 'install', 'installation', 'installing', 'instantly', 'instead', 'instituitions', 'instructions', 'insurance', 'intelligent', 'intend', 'interest', 'interested', 'interesting', 'interflora', 'interfued', 'internal', 'internet', 'interview', 'intha', 'into', 'intro', 'intrude', 'invaders', 'invention', 'invest', 'investigate', 'invite', 'invited', 'inviting', 'invnted', 'invoices', 'involve', 'involved', 'iouri', 'ip', 'ip4', 'ipad', 'ipaditan', 'ipads', 'iphone', 'ipod', 'iq', 'irene', 'iriver', 'ironing', 'irritated', 'irritates', 'irritating', 'irritation', 'is', 'iscoming', 'ish', 'ishtamayoo', 'island', 'islands', 'isn', 'isnt', 'issue', 'issues', 'it', 'italian', 'itcould', 'items', 'iter', 'itried2tell', 'its', 'itself', 'itwhichturnedinto', 'itz', 'itåõs', 'ive', 'iwas', 'iyo', 'iz', 'izzit', 'iåõllspeak', 'iåõm', 'j5q', 'jabo', 'jacket', 'jackpot', 'jackson', 'jacuzzi', 'jada', 'jaklin', 'jam', 'james', 'jamster', 'jamz', 'jan', 'jane', 'january', 'janx', 'japanese', 'jas', 'jason', 'java', 'jay', 'jaya', 'jaykwon', 'jazz', 'jd', 'je', 'jealous', 'jeans', 'jeetey', 'jelly', 'jenny', 'jeri', 'jerk', 'jerry', 'jersey', 'jess', 'jesus', 'jet', 'jetton', 'jewelry', 'jez', 'ji', 'jia', 'jiayin', 'jiu', 'jo', 'job', 'jocks', 'jod', 'jog', 'jogging', 'john', 'johnåó', 'join', 'joined', 'joining', 'joke', 'joker', 'jokes', 'jokin', 'joking', 'jolly', 'jolt', 'jon', 'jones', 'jontin', 'jordan', 'jorge', 'jos', 'jot', 'journey', 'joy', 'joys', 'jp', 'js', 'jsco', 'jst', 'jstfrnd', 'jsut', 'juan', 'juicy', 'jul', 'juliana', 'julianaland', 'july', 'jump', 'jumpers', 'june', 'jungle', 'junna', 'jurong', 'jus', 'just', 'justbeen', 'justfound', 'justify', 'juz', 'k52', 'k61', 'kadeem', 'kaiez', 'kaitlyn', 'kalaachutaarama', 'kallis', 'kalstiya', 'kama', 'kanagu', 'kane', 'kanji', 'kano', 'kappa', 'karaoke', 'kate', 'katexxx', 'kavalan', 'kay', 'kaypoh', 'kb', 'ke', 'keen', 'keep', 'keeping', 'keeps', 'kegger', 'ken', 'kent', 'kept', 'kerala', 'keralacircle', 'keris', 'kettoda', 'key', 'keys', 'kfc', 'kg', 'khelate', 'kick', 'kickboxing', 'kickoff', 'kicks', 'kid', 'kidding', 'kids', 'kidz', 'kill', 'killed', 'killing', 'kills', 'kind', 'kinda', 'kindly', 'king', 'kintu', 'kiosk', 'kisi', 'kiss', 'kisses', 'kissing', 'kit', 'kitty', 'kl341', 'knackered', 'knees', 'knew', 'knickers', 'knocking', 'know', 'knowing', 'known', 'knows', 'knw', 'ko', 'kodstini', 'kodthini', 'konw', 'korli', 'kotees', 'kothi', 'kr', 'kuch', 'kudi', 'kusruthi', 'kvb', 'kz', 'l8', 'l8er', 'l8r', 'la', 'la1', 'la32wu', 'lab', 'labor', 'lacking', 'lacs', 'laden', 'ladies', 'lady', 'lag', 'lage', 'lager', 'laid', 'lakhs', 'lambda', 'lambu', 'lamp', 'land', 'landing', 'landline', 'landlineonly', 'landlines', 'landmark', 'lands', 'langport', 'language', 'lanka', 'lanre', 'lap', 'laptop', 'lar', 'lara', 'laready', 'largest', 'lark', 'lasagna', 'last', 'lasting', 'late', 'lately', 'latelyxxx', 'later', 'latest', 'latr', 'laugh', 'laughed', 'laughing', 'laughs', 'laundry', 'lautech', 'lavender', 'law', 'laxinorficated', 'lay', 'laying', 'lays', 'lazy', 'lccltd', 'ldew', 'ldn', 'ldnw15h', 'le', 'lead', 'leadership', 'leading', 'leaf', 'league', 'leanne', 'learn', 'learned', 'least', 'least5times', 'leave', 'leaves', 'leaving', 'lect', 'lecture', 'lecturer', 'left', 'leftovers', 'leg', 'legal', 'legs', 'leh', 'lei', 'lemme', 'length', 'leo', 'leona', 'les', 'less', 'lesser', 'lesson', 'lessons', 'let', 'lets', 'letter', 'letters', 'lf56', 'li', 'liao', 'lib', 'library', 'lick', 'licks', 'lido', 'lie', 'lies', 'life', 'lifebook', 'lifeis', 'lifetime', 'lifpartnr', 'lift', 'lifted', 'lifting', 'light', 'lighters', 'lightly', 'lik', 'like', 'liked', 'likely', 'likes', 'likeyour', 'liking', 'lil', 'lily', 'lim', 'limit', 'limited', 'limiting', 'limits', 'limping', 'lindsay', 'line', 'linear', 'lined', 'linerental', 'lines', 'lingerie', 'lingo', 'link', 'links', 'linux', 'lionm', 'lionp', 'lions', 'lip', 'lips', 'liquor', 'list', 'listed', 'listen', 'listened2the', 'listener', 'listening', 'listening2the', 'listn', 'literally', 'litres', 'little', 'live', 'liver', 'liverpool', 'lives', 'living', 'lk', 'lkpobox177hp51fl', 'll', 'lmao', 'lnly', 'lo', 'load', 'loads', 'loan', 'loans', 'local', 'location', 'locations', 'locaxx', 'lodging', 'log', 'logging', 'login', 'logo', 'logoff', 'logon', 'logos', 'loko', 'lol', 'lolnice', 'lololo', 'londn', 'london', 'lonely', 'long', 'longer', 'lonlines', 'loo', 'look', 'looked', 'lookin', 'looking', 'looks', 'lool', 'looovvve', 'loose', 'loosing', 'loosu', 'lor', 'lord', 'lose', 'losers', 'loses', 'losing', 'loss', 'lost', 'lot', 'lotr', 'lots', 'lotsly', 'lotta', 'lotto', 'lotz', 'loud', 'lounge', 'lousy', 'lov', 'lovable', 'love', 'loved', 'lovejen', 'lovely', 'loveme', 'lover', 'loverboy', 'lovers', 'loves', 'loving', 'lovingly', 'lovly', 'low', 'lower', 'lowes', 'loxahatchee', 'loyal', 'loyalty', 'ls1', 'ls15hb', 'lt', 'ltd', 'ltdhelpdesk', 'lubly', 'luck', 'luckily', 'lucky', 'lucozade', 'lucy', 'lucyxx', 'lul', 'lunch', 'lunchtime', 'lunsford', 'lush', 'luton', 'luv', 'luvd', 'luvs', 'lux', 'luxury', 'lvblefrnd', 'lyf', 'lyfu', 'lying', 'lyk', 'lyricalladie', 'lyrics', 'm221bp', 'm227xy', 'm26', 'm263uz', 'm39m51', 'm6', 'm60', 'm8', 'm8s', 'm95', 'ma', 'maaaan', 'maangalyam', 'maat', 'mac', 'macedonia', 'macha', 'machan', 'machi', 'machines', 'macho', 'mack', 'macs', 'mad', 'mad1', 'mad2', 'madam', 'made', 'madodu', 'madoke', 'madstini', 'madurai', 'mag', 'maga', 'magazine', 'magic', 'magical', 'magicalsongs', 'mah', 'mahal', 'maid', 'mail', 'mailbox', 'mailed', 'mails', 'main', 'maintain', 'major', 'make', 'makes', 'makin', 'making', 'malaria', 'malarky', 'male', 'mall', 'mallika', 'man', 'manage', 'manageable', 'managed', 'management', 'manda', 'mandan', 'mandara', 'mandy', 'maneesha', 'manege', 'maniac', 'manky', 'many', 'map', 'mapquest', 'maps', 'marandratha', 'march', 'margaret', 'margin', 'marine', 'mark', 'market', 'marking', 'marrge', 'marriage', 'married', 'marry', 'marsms', 'mary', 'mas', 'massage', 'massive', 'masteriastering', 'masters', 'mat', 'match', 'matched', 'matches', 'mate', 'mates', 'math', 'mathematics', 'mathews', 'matrix3', 'matter', 'matters', 'matthew', 'matured', 'maturity', 'max', 'max10mins', 'max6', 'maximize', 'maximum', 'maxå', 'may', 'mayb', 'maybe', 'mb', 'mca', 'mcat', 'mcfly', 'me', 'meal', 'meals', 'mean', 'meaning', 'meaningless', 'means', 'meant', 'meanwhile', 'measure', 'meatballs', 'mecause', 'med', 'medical', 'medicine', 'meds', 'meet', 'meetin', 'meeting', 'meetins', 'meets', 'meg', 'mega', 'meh', 'mei', 'meive', 'mel', 'melle', 'melt', 'member', 'members', 'membership', 'memorable', 'memories', 'men', 'mental', 'mention', 'mentioned', 'mentionned', 'mentor', 'menu', 'meow', 'merely', 'merememberin', 'merry', 'mesages', 'mess', 'message', 'messaged', 'messages', 'messaging', 'messenger', 'messy', 'met', 'method', 'mfl', 'mgs', 'mi', 'mia', 'michael', 'mid', 'middle', 'midnight', 'mids', 'might', 'mike', 'mila', 'mileage', 'miles', 'milk', 'millers', 'million', 'milta', 'min', 'mina', 'mind', 'mindset', 'mine', 'minecraft', 'mini', 'minimum', 'minmobsmore', 'minmobsmorelkpobox177hp51fl', 'minmoremobsemspobox45po139wa', 'minnaminunginte', 'minor', 'mins', 'mint', 'minus', 'minute', 'minutes', 'minuts', 'miracle', 'mirror', 'misbehaved', 'miserable', 'mising', 'misplaced', 'miss', 'misscall', 'missed', 'missin', 'missing', 'missions', 'misss', 'missunderstding', 'missy', 'mistake', 'misundrstud', 'mite', 'mitsake', 'mittelschmertz', 'miwa', 'mix', 'mj', 'mk45', 'ml', 'mm', 'mmm', 'mmmm', 'mmmmmm', 'mmmmmmm', 'mnth', 'mnths', 'mo', 'moan', 'mob', 'mobcudb', 'mobile', 'mobiles', 'mobilesdirect', 'mobileupd8', 'mobno', 'mobsi', 'mobstorequiz10ppm', 'moby', 'mobypobox734ls27yf', 'mode', 'model', 'module', 'modules', 'mofo', 'moji', 'mokka', 'molested', 'mom', 'moment', 'moments', 'moms', 'mon', 'monday', 'mone', 'money', 'monkeys', 'mono', 'monoc', 'monos', 'monster', 'month', 'monthly', 'monthlysubscription', 'months', 'mood', 'moon', 'moral', 'more', 'morefrmmob', 'morn', 'morning', 'mornings', 'morphine', 'most', 'mostly', 'mother', 'motivate', 'motive', 'motor', 'motorola', 'mountain', 'mountains', 'mouse', 'move', 'moved', 'moves', 'movie', 'movies', 'movietrivia', 'moving', 'mp3', 'mquiz', 'mr', 'mre', 'mrng', 'mrt', 'ms', 'msg', 'msg150p', 'msging', 'msgrcvd', 'msgrcvdhg', 'msgs', 'msn', 'mt', 'mtalk', 'mth', 'mths', 'mtmsg', 'mtmsg18', 'mtmsgrcvd18', 'mu', 'muah', 'much', 'muchand', 'muchxxlove', 'mudyadhu', 'multimedia', 'multiply', 'multis', 'mum', 'mumhas', 'mummy', 'mums', 'mumtaz', 'mundhe', 'munsters', 'murali', 'murder', 'murdered', 'murderer', 'mus', 'mush', 'mushy', 'music', 'musical', 'musicnews', 'must', 'musta', 'musthu', 'mustprovide', 'mutai', 'mutations', 'muz', 'mw', 'mwahs', 'my', 'mylife', 'mymoby', 'myparents', 'myself', 'mystery', 'n8', 'n9dx', 'na', 'nachos', 'nag', 'nagar', 'nah', 'nahi', 'nails', 'naked', 'nalla', 'name', 'name1', 'name2', 'named', 'names', 'nammanna', 'namous', 'nan', 'nange', 'nanny', 'nannys', 'nap', 'narcotics', 'nasdaq', 'naseeb', 'nasty', 'nat', 'nat27081980', 'natalja', 'national', 'nationwide', 'natural', 'nature', 'natwest', 'naughty', 'nauseous', 'nav', 'nb', 'nbme', 'nd', 'ne', 'near', 'nearby', 'nearer', 'nearly', 'necesity', 'necessarily', 'necessary', 'necessity', 'neck', 'necklace', 'ned', 'need', 'needa', 'needed', 'needing', 'needs', 'needy', 'neft', 'negative', 'neglect', 'neighbor', 'neighbour', 'neither', 'nelson', 'neo69', 'nervous', 'neshanth', 'net', 'netcollex', 'netflix', 'netun', 'netvision', 'network', 'networking', 'networks', 'neva', 'never', 'nevering', 'neville', 'new', 'newest', 'newport', 'news', 'newscaster', 'newsletter', 'newspapers', 'next', 'nhs', 'ni8', 'nic', 'nice', 'nichols', 'nick', 'nickey', 'nicky', 'nigeria', 'nigh', 'night', 'nighters', 'nightnight', 'nights', 'nigro', 'nike', 'nikiyu4', 'nimbomsons', 'nimya', 'nino', 'nit', 'nite', 'nitro', 'nitros', 'nitz', 'nmde', 'no', 'no1', 'nobbing', 'nobody', 'noe', 'noice', 'noise', 'noisy', 'noiåõm', 'nok', 'nokia', 'nokia6600', 'nokia6650', 'nokias', 'noline', 'non', 'noncomittal', 'none', 'nonetheless', 'noon', 'nooooooo', 'noooooooo', 'nope', 'nor', 'nora', 'norcorp', 'nordstrom', 'norm', 'norm150p', 'normal', 'normally', 'north', 'northampton', 'nos', 'nose', 'nosy', 'not', 'note', 'notes', 'nothin', 'nothing', 'notice', 'notifications', 'notixiquating', 'notxt', 'noun', 'novelty', 'november', 'now', 'now1', 'nowadays', 'noworriesloans', 'nri', 'nt', 'nte', 'ntimate', 'ntt', 'ntwk', 'nuclear', 'nudist', 'num', 'number', 'numbers', 'nursery', 'nurses', 'nurungu', 'nus', 'nuther', 'nutter', 'nvm', 'nvq', 'nw', 'nxt', 'ny', 'nyc', 'nydc', 'nyt', 'nz', 'nìâte', 'o2', 'o2fwd', 'obedient', 'obese', 'objection', 'oble', 'oblisingately', 'oblivious', 'obviously', 'occasion', 'occupied', 'occupy', 'occur', 'ocean', 'odi', 'of', 'ofcourse', 'off', 'offc', 'offcampus', 'offense', 'offer', 'offered', 'offering', 'offers', 'office', 'official', 'officially', 'offline', 'ofice', 'ofsi', 'ofstuff', 'ofå', 'oga', 'oh', 'oi', 'oic', 'oil', 'oja', 'ok', 'okay', 'okday', 'okden', 'okey', 'okie', 'okies', 'ola', 'olave', 'olayiwola', 'old', 'ollu', 'olol', 'olowoyey', 'olympics', 'omg', 'omw', 'on', 'onam', 'onbus', 'once', 'one', 'ones', 'oni', 'onion', 'online', 'onluy', 'only', 'onto', 'onwards', 'oooh', 'oooooh', 'ooooooh', 'oops', 'open', 'opened', 'opener', 'openin', 'opening', 'openings', 'operate', 'operator', 'opinion', 'opinions', 'opponenter', 'opportunity', 'opposed', 'opposite', 'opps', 'opt', 'opted', 'optin', 'option', 'optout', 'or', 'or2optout', 'or2stoptxt', 'oral', 'orange', 'oranges', 'orchard', 'order', 'ordered', 'ore', 'oredi', 'oreo', 'oreos', 'org', 'organise', 'organizer', 'orig', 'original', 'orno', 'ors', 'ortxt', 'oru', 'os', 'oso', 'otbox', 'other', 'others', 'otherwise', 'othrs', 'otside', 'ou', 'our', 'ourbacks', 'ours', 'out', 'outage', 'outages', 'outbid', 'outdoors', 'outfit', 'outfor', 'outgoing', 'outl8r', 'outrageous', 'outreach', 'outside', 'outsider', 'outstanding', 'outta', 'ovarian', 'oveable', 'over', 'overa', 'overdid', 'overdose', 'overemphasise', 'ovr', 'ovulate', 'ovulation', 'ow', 'owed', 'owl', 'own', 'owns', 'owo', 'oyea', 'oyster', 'oz', 'pa', 'paces', 'pack', 'package', 'packing', 'packs', 'page', 'pages', 'pai', 'paid', 'pain', 'painful', 'paining', 'painting', 'pairs', 'pale', 'palm', 'pan', 'panalam', 'panasonic', 'pandy', 'pansy', 'panther', 'pap', 'paper', 'papers', 'paracetamol', 'parade', 'paragon', 'paragraphs', 'paranoid', 'parco', 'parent', 'parents', 'paris', 'parish', 'park', 'parked', 'parking', 'part', 'participate', 'particular', 'particularly', 'parties', 'partner', 'partnership', 'parts', 'party', 'pases', 'pass', 'passable', 'passed', 'passes', 'passionate', 'passport', 'password', 'passwords', 'past', 'pataistha', 'patent', 'path', 'paths', 'patients', 'patrick', 'pattern', 'patty', 'pause', 'pax', 'pay', 'payback', 'payee', 'paying', 'payment', 'payoh', 'paypal', 'pc', 'pc1323', 'pdate_now', 'peace', 'peaceful', 'peach', 'peak', 'pears', 'pee', 'peeps', 'pehle', 'pei', 'pen', 'pence', 'pendent', 'pending', 'penis', 'people', 'peoples', 'per', 'percent', 'percentages', 'perf', 'perfect', 'performance', 'performed', 'perfume', 'perhaps', 'period', 'peripherals', 'permanent', 'permission', 'permissions', 'persevered', 'persian', 'person', 'person2die', 'personal', 'personality', 'personally', 'persons', 'perspective', 'pert', 'perumbavoor', 'pest', 'pete', 'petey', 'petrol', 'petticoatdreams', 'pg', 'ph', 'pharmacy', 'phb1', 'phd', 'phews', 'phil', 'philosophical', 'philosophy', 'phne', 'phoenix', 'phone', 'phonebook', 'phoned', 'phones', 'phony', 'photo', 'photos', 'php', 'phrase', 'phyhcmk', 'physics', 'piah', 'pic', 'pick', 'picked', 'picking', 'pickle', 'pics', 'picture', 'pictures', 'pie', 'piece', 'pieces', 'pierre', 'pig', 'piggy', 'pilates', 'pile', 'pillows', 'pimples', 'pin', 'pink', 'pisces', 'piss', 'pissed', 'pist', 'pity', 'pix', 'pixels', 'pizza', 'pl', 'place', 'placed', 'placement', 'places', 'plaid', 'plan', 'plane', 'planet', 'planettalkinstant', 'planned', 'planning', 'plans', 'plate', 'platt', 'play', 'played', 'player', 'players', 'playin', 'playing', 'playng', 'plaza', 'pleasant', 'please', 'pleased', 'pleasure', 'pleasured', 'plenty', 'plm', 'ploughing', 'pls', 'plum', 'plumbing', 'plural', 'plus', 'plyr', 'plz', 'pm', 'po', 'pobox', 'pobox1', 'pobox12n146tf15', 'pobox12n146tf150p', 'pobox334', 'pobox36504w45wq', 'pobox45w2tg150p', 'pobox75ldns7', 'pobox84', 'poboxox36504w45wq', 'pocay', 'pocketbabe', 'pockets', 'pocy', 'pod', 'poem', 'poet', 'point', 'points', 'poker', 'poking', 'pokkiri', 'pole', 'police', 'polo', 'poly', 'poly3', 'polyc', 'polyh', 'polyph', 'polyphonic', 'polys', 'pongal', 'ponnungale', 'poo', 'pooja', 'pookie', 'pool', 'poop', 'poor', 'poorly', 'pop', 'popcorn', 'popped', 'popping', 'porn', 'porridge', 'port', 'pos', 'pose', 'posh', 'position', 'positions', 'positive', 'possession', 'possibility', 'possible', 'possibly', 'post', 'postal', 'postcard', 'postcode', 'posted', 'posting', 'posts', 'potato', 'potential', 'potter', 'pouch', 'pound', 'pounded', 'pounds', 'pours', 'pouts', 'power', 'powerful', 'ppl', 'pple', 'ppm', 'ppm150', 'ppt150x3', 'prabha', 'practical', 'practice', 'practicing', 'practicum', 'practising', 'prakesh', 'prasad', 'prasanth', 'pray', 'prayers', 'praying', 'pre', 'predicting', 'prediction', 'prefer', 'preferably', 'prem', 'premarica', 'premier', 'premium', 'prepaid', 'prepare', 'prepared', 'prepayment', 'preponed', 'prescripiton', 'prescription', 'presence', 'present', 'presents', 'president', 'press', 'pressies', 'pressure', 'pretsorginta', 'pretsovru', 'pretty', 'prevent', 'previews', 'previous', 'previously', 'prey', 'price', 'pride', 'prince', 'princes', 'princess', 'print', 'printed', 'printer', 'printing', 'prior', 'priority', 'priscilla', 'private', 'priya', 'prize', 'prizeawaiting', 'prizes', 'prizeswith', 'pro', 'prob', 'probably', 'problem', 'problematic', 'problems', 'problms', 'probs', 'probthat', 'process', 'processed', 'prods', 'prof', 'professional', 'professors', 'profile', 'profit', 'program', 'programs', 'project', 'prolly', 'prominent', 'promise', 'promised', 'promises', 'promo', 'promoting', 'promotion', 'promptly', 'prompts', 'prone', 'proof', 'proper', 'properly', 'property', 'propose', 'props', 'pros', 'prospects', 'protect', 'proverb', 'provided', 'provider', 'providing', 'province', 'proze', 'prsn', 'ps', 'ps3', 'pshew', 'psp', 'psychiatrist', 'psychic', 'psychologist', 'pt2', 'ptbo', 'pub', 'public', 'publish', 'pudunga', 'pull', 'pulling', 'punish', 'punishment', 'punj', 'puppy', 'purchase', 'purchases', 'pure', 'purity', 'purple', 'purpose', 'purse', 'push', 'pushbutton', 'pussy', 'put', 'puts', 'puttin', 'putting', 'puzzles', 'px3748', 'på', 'qatar', 'qbank', 'qet', 'qi', 'qing', 'qlynnbv', 'quality', 'quarter', 'que', 'queen', 'queries', 'ques', 'question', 'questioned', 'questions', 'quick', 'quickly', 'quiet', 'quit', 'quite', 'quiteamuzing', 'quitting', 'quiz', 'quizclub', 'quote', 'quoting', 'r836', 'racing', 'radiator', 'radio', 'raed', 'rael', 'raglan', 'raiden', 'railway', 'rain', 'raining', 'raise', 'raj', 'rajas', 'rajitha', 'rajnikant', 'rakhesh', 'raksha', 'rally', 'ralphs', 'ramen', 'ran', 'random', 'randomlly', 'randomly', 'randy', 'rang', 'range', 'ranjith', 'ranju', 'rate', 'rates', 'rather', 'rats', 'raviyog', 'rawring', 'rayman', 'rays', 'rct', 'rcv', 'rcvd', 'rd', 'rdy', 're', 'reach', 'reached', 'reaching', 'reacting', 'reaction', 'read', 'readers', 'readiness', 'reading', 'ready', 'real', 'real1', 'realise', 'realised', 'realising', 'reality', 'realize', 'realized', 'realizes', 'really', 'realy', 'reapply', 'rearrange', 'reason', 'reasonable', 'reasons', 'reassurance', 'reboot', 'rebtel', 'rec', 'recd', 'receipt', 'receipts', 'receive', 'receivea', 'received', 'receiving', 'recent', 'recently', 'recession', 'recharge', 'reckon', 'recognise', 'recognises', 'record', 'recorded', 'recorder', 'records', 'recount', 'recovery', 'recpt', 'recreation', 'recycling', 'red', 'redeemable', 'redeemed', 'reduce', 'ree', 'ref', 'reference', 'references', 'referin', 'reffering', 'refilled', 'reflection', 'refreshed', 'refund', 'refunded', 'refused', 'reg', 'regalportfolio', 'regard', 'regarding', 'regards', 'register', 'registered', 'registration', 'regret', 'regretted', 'regular', 'rejected', 'related', 'relation', 'relationship', 'relatives', 'relax', 'released', 'reliant', 'relieved', 'religiously', 'rem', 'remain', 'remains', 'remb', 'remember', 'remembered', 'rememberi', 'remembr', 'remembrs', 'remind', 'reminder', 'reminding', 'reminds', 'remixed', 'removal', 'remove', 'removed', 'rencontre', 'renewal', 'renewed', 'renewing', 'rent', 'rental', 'renting', 'rentl', 'repair', 'repeat', 'repeating', 'replace', 'replacement', 'replied', 'reply', 'replying', 'replys150', 'report', 'reppurcussions', 'representative', 'republic', 'request', 'requests', 'required', 'requirements', 'requires', 'research', 'resend', 'resent', 'reservations', 'reserve', 'reserved', 'reserves', 'residency', 'resizing', 'resolution', 'resolved', 'respect', 'respectful', 'responce', 'respond', 'responding', 'response', 'responsibilities', 'responsibility', 'responsible', 'rest', 'restaurant', 'restock', 'restocked', 'restrict', 'restrictions', 'resubbing', 'result', 'results', 'resume', 'resuming', 'retard', 'retired', 'retrieve', 'return', 'returned', 'returns', 'reunion', 'reveal', 'revealed', 'revealing', 'reverse', 'review', 'revision', 'reward', 'rewarding', 'rg21', 'rgds', 'rhode', 'rice', 'rich', 'riddance', 'ridden', 'ride', 'right', 'rightio', 'rightly', 'rights', 'riley', 'ring', 'ringing', 'rings', 'ringtone', 'ringtoneking', 'ringtones', 'rip', 'risks', 'rite', 'ritten', 'river', 'road', 'roads', 'roast', 'rob', 'robinson', 'robs', 'rock', 'rocking', 'rofl', 'roger', 'role', 'roles', 'rolled', 'romantic', 'romcapspam', 'ron', 'room', 'roomate', 'roommate', 'roommates', 'rooms', 'rose', 'roses', 'rough', 'round', 'rounder', 'rounds', 'row', 'rowdy', 'royal', 'rp176781', 'rpl', 'rply', 'rr', 'rs', 'rstm', 'rt', 'rtf', 'rtm', 'rto', 'ru', 'rub', 'rubber', 'rude', 'rudi', 'rugby', 'ruin', 'ruining', 'rule', 'rules', 'rum', 'rumbling', 'rummer', 'rumour', 'run', 'running', 'runs', 'rupaul', 'rush', 'rushing', 'ruthful', 'rv', 'rvx', 'rwm', 'ryan', 's89', 'sac', 'sachin', 'sack', 'sacked', 'sacrifice', 'sad', 'sae', 'saeed', 'safe', 'safely', 'safety', 'sagamu', 'saibaba', 'said', 'sake', 'salad', 'salam', 'salary', 'sale', 'salesman', 'salmon', 'salon', 'salt', 'sam', 'samantha', 'same', 'samus', 'sane', 'sankranti', 'santa', 'santacalling', 'sao', 'sapna', 'sar', 'sara', 'sarasota', 'sarcasm', 'sarcastic', 'saristar', 'sariyag', 'sary', 'sashimi', 'sat', 'satanic', 'sathy', 'sathya', 'satisfied', 'satisfy', 'saturday', 'saucy', 'savamob', 'save', 'saved', 'saves', 'savings', 'saw', 'say', 'sayin', 'saying', 'says', 'sayy', 'scallies', 'scammers', 'scarcasim', 'scared', 'scary', 'sch', 'schedule', 'school', 'schools', 'science', 'scold', 'scorable', 'score', 'scores', 'scoring', 'scotch', 'scotland', 'scotsman', 'scouse', 'scrappy', 'scratches', 'scream', 'screamed', 'screaming', 'screen', 'screwd', 'scrounge', 'sculpture', 'sd', 'sday', 'sdryb8i', 'se', 'sea', 'search', 'searching', 'season', 'seat', 'sec', 'second', 'seconds', 'secret', 'secretary', 'secretly', 'secrets', 'secs', 'section', 'sections', 'secure', 'secured', 'sed', 'see', 'seeds', 'seeing', 'seekers', 'seem', 'seemed', 'seems', 'seen', 'sef', 'seh', 'sehwag', 'seing', 'select', 'selected', 'selection', 'self', 'selfindependence', 'selfish', 'selflessness', 'sell', 'selling', 'sells', 'sem', 'semester', 'semi', 'semiobscure', 'sen', 'send', 'sender', 'sending', 'sends', 'senor', 'sense', 'senses', 'sensible', 'sensitive', 'sent', 'sentence', 'senthil', 'sentiment', 'seperated', 'sept', 'september', 'series', 'serious', 'seriously', 'served', 'server', 'service', 'services', 'serving', 'servs', 'set', 'setting', 'settings', 'settle', 'settled', 'seven', 'seventeen', 'several', 'sex', 'sexual', 'sexy', 'sexychat', 'sf', 'sg', 'sh', 'sha', 'shade', 'shadow', 'shagged', 'shah', 'shahjahan', 'shakara', 'shake', 'shakespeare', 'shaking', 'shall', 'shame', 'shampain', 'shangela', 'shanil', 'shant', 'share', 'shared', 'shattered', 'shaved', 'shb', 'shd', 'she', 'sheet', 'sheets', 'sheffield', 'shelf', 'shell', 'sherawat', 'shes', 'shesil', 'shijas', 'shijutta', 'shinco', 'shining', 'shiny', 'ship', 'shipping', 'shirt', 'shirts', 'shit', 'shitload', 'shitstorm', 'shivratri', 'shld', 'shock', 'shocking', 'shoes', 'shola', 'shoot', 'shop', 'shoppin', 'shopping', 'shoranur', 'shore', 'short', 'shortage', 'shortbreaks', 'shortcode', 'shorter', 'shortly', 'shorts', 'shot', 'shoul', 'should', 'shoulders', 'shouldn', 'shouted', 'shouting', 'shove', 'shoving', 'show', 'showed', 'shower', 'showered', 'showing', 'showr', 'shows', 'shracomorsglsuplt', 'shrink', 'shrub', 'shsex', 'shu', 'shud', 'shuhui', 'shun', 'shut', 'shy', 'si', 'sian', 'sib', 'sick', 'sickness', 'side', 'sigh', 'sighs', 'sight', 'sign', 'signal', 'significance', 'signin', 'signing', 'silent', 'silently', 'silly', 'silver', 'sim', 'simonwatson5120', 'simple', 'simpler', 'simply', 'simpsons', 'simulate', 'since', 'sinco', 'sindu', 'sing', 'singapore', 'singing', 'single', 'singles', 'sink', 'sip', 'sipix', 'sips', 'sir', 'sirji', 'sis', 'sister', 'sit', 'site', 'sitll', 'sitter', 'sittin', 'sitting', 'situation', 'situations', 'siva', 'six', 'size', 'sk3', 'sk38xh', 'skateboarding', 'skilgme', 'skillgame', 'skills', 'skinny', 'skins', 'skint', 'skip', 'sky', 'skye', 'skype', 'skyped', 'slaaaaave', 'slacking', 'slap', 'slave', 'sleep', 'sleepin', 'sleeping', 'sleepy', 'slept', 'slice', 'slices', 'slide', 'slightly', 'slip', 'slippers', 'slippery', 'slob', 'slots', 'slovely', 'slow', 'slower', 'slowing', 'slowly', 'slp', 'slurp', 'smacks', 'small', 'smaller', 'smart', 'smartcall', 'smarter', 'smash', 'smashed', 'smear', 'smell', 'smeone', 'smidgin', 'smile', 'smiles', 'smiley', 'smiling', 'smith', 'smoke', 'smoked', 'smokes', 'smoking', 'smoothly', 'sms', 'smsco', 'smsing', 'smsrewards', 'smsservices', 'smth', 'sn', 'snake', 'snap', 'snatch', 'snd', 'snickering', 'snogs', 'snoring', 'snot', 'snow', 'snowman', 'snuggles', 'so', 'soc', 'sochte', 'social', 'sofa', 'soft', 'software', 'soil', 'soiree', 'sol', 'sold', 'solve', 'solved', 'some', 'some1', 'somebody', 'someone', 'someonone', 'someplace', 'somerset', 'sometext', 'somethin', 'something', 'sometime', 'sometimes', 'somewhat', 'somewhere', 'somewheresomeone', 'somtimes', 'sonetimes', 'song', 'songs', 'sony', 'sonyericsson', 'soo', 'soon', 'sooner', 'soonlots', 'soooo', 'sore', 'sorrow', 'sorry', 'sort', 'sorta', 'sorted', 'sorting', 'sorts', 'sory', 'soryda', 'sos', 'soul', 'sound', 'sounding', 'sounds', 'soundtrack', 'soundåõs', 'soup', 'source', 'sources', 'south', 'southern', 'souveniers', 'soz', 'sozi', 'sp', 'space', 'spacebucks', 'spaces', 'spageddies', 'spain', 'spanish', 'spare', 'spares', 'spark', 'sparkling', 'spatula', 'speak', 'speaking', 'special', 'speciale', 'specialisation', 'specially', 'specific', 'specs', 'speechless', 'speed', 'spell', 'spelled', 'spelling', 'spend', 'spending', 'spent', 'sphosting', 'spice', 'spiffing', 'spile', 'spin', 'spiral', 'spirit', 'spiritual', 'spk', 'spl', 'splash', 'splat', 'splendid', 'splleing', 'spoiled', 'spoke', 'spoken', 'spontaneously', 'spook', 'spoon', 'spoons', 'sport', 'sports', 'spose', 'spot', 'spotty', 'sppok', 'spreadsheet', 'spree', 'spring', 'springs', 'sprint', 'sptv', 'spun', 'spys', 'sq825', 'squeeeeeze', 'squeezed', 'squid', 'squishy', 'srs', 'srsly', 'srt', 'sry', 'st', 'stability', 'staff', 'stairs', 'stalking', 'stamped', 'stamps', 'stand', 'standard', 'standing', 'stands', 'star', 'starer', 'staring', 'starring', 'stars', 'starshine', 'start', 'started', 'starting', 'starts', 'starve', 'starving', 'starwars3', 'stated', 'statement', 'statements', 'station', 'status', 'stay', 'stayed', 'stayin', 'staying', 'stays', 'std', 'stdtxtrate', 'steak', 'steal', 'steam', 'steamboat', 'steed', 'steering', 'step', 'steps', 'stereo', 'sterling', 'sterm', 'steve', 'stewartsize', 'steyn', 'sth', 'sticky', 'stifled', 'stil', 'still', 'stitch', 'stock', 'stockport', 'stomach', 'stomps', 'stone', 'stones', 'stool', 'stop', 'stop2', 'stop2stop', 'stopbcm', 'stopcost', 'stopcs', 'stopped', 'stops', 'stopsms', 'store', 'stores', 'stories', 'storming', 'story', 'str', 'str8', 'straight', 'strain', 'strange', 'stranger', 'stream', 'street', 'stress', 'stressful', 'stressfull', 'stretch', 'strewn', 'strict', 'strike', 'strings', 'strip', 'strips', 'strong', 'strongly', 'strt', 'strtd', 'struggling', 'sts', 'stuck', 'studdying', 'student', 'students', 'studies', 'study', 'studying', 'stuff', 'stuff42moro', 'stuffing', 'stuffs', 'stupid', 'style', 'styles', 'styling', 'stylish', 'stylist', 'sub', 'subject', 'subletting', 'submitting', 'subpoly', 'subs', 'subs16', 'subscribe', 'subscribe6gbp', 'subscribed', 'subscriber', 'subscribers', 'subscription', 'subscriptions', 'subscriptn3gbp', 'subsequent', 'subtoitles', 'success', 'successful', 'successfully', 'such', 'sucks', 'suddenly', 'suffer', 'suffering', 'sufficient', 'sugababes', 'sugar', 'suggest', 'suggestion', 'suggestions', 'suite', 'suite342', 'suits', 'sullivan', 'sum', 'sum1', 'suman', 'sumfing', 'summer', 'summers', 'summon', 'sumthin', 'sun', 'sun0819', 'sunday', 'sundayish', 'sunny', 'sunroof', 'sunscreen', 'sunshine', 'suntec', 'sup', 'super', 'superb', 'superior', 'supervisor', 'supose', 'suppliers', 'supplies', 'supply', 'support', 'supports', 'suppose', 'supposed', 'suprman', 'sura', 'sure', 'surely', 'surf', 'surfing', 'surgical', 'surly', 'surprise', 'surprised', 'surrounded', 'survey', 'surya', 'sutra', 'sux', 'suzy', 'sw7', 'sw73ss', 'swalpa', 'swann', 'swashbuckling', 'swat', 'swatch', 'sway', 'swayze', 'swear', 'sweatter', 'sweet', 'sweetest', 'sweetheart', 'sweetie', 'sweets', 'swell', 'swimming', 'swimsuit', 'swing', 'switch', 'swoop', 'swt', 'swtheart', 'syd', 'symbol', 'sympathetic', 'symptoms', 'synced', 'syria', 'system', 'systems', 't91', 'ta', 'table', 'tablet', 'tablets', 'tackle', 'tacos', 'tactful', 'tag', 'tagged', 'tahan', 'tai', 'tait', 'taj', 'taka', 'take', 'takecare', 'taken', 'takes', 'takin', 'taking', 'talent', 'talents', 'talk', 'talkbut', 'talked', 'talking', 'talks', 'tall', 'tallahassee', 'tallent', 'tamilnadu', 'tampa', 'tank', 'tantrum', 'tap', 'tape', 'tariffs', 'tarot', 'tarpon', 'taste', 'tasts', 'tat', 'tata', 'tats', 'tattoos', 'tau', 'taunton', 'taxes', 'taxi', 'taxt', 'taylor', 'tayseer', 'tb', 'tc', 'tcr', 'tcs', 'tddnewsletter', 'tea', 'teach', 'teacher', 'teachers', 'teaches', 'teaching', 'team', 'teams', 'tear', 'tease', 'teasing', 'tech', 'technical', 'technologies', 'tee', 'teenager', 'teeth', 'teju', 'tel', 'telediscount', 'telephone', 'telephonic', 'tell', 'telling', 'tellmiss', 'tells', 'telly', 'telphone', 'telugu', 'temales', 'temp', 'temple', 'ten', 'tenants', 'tenerife', 'tension', 'term', 'terminated', 'terms', 'termsapply', 'ternal', 'terrible', 'terrific', 'terror', 'terrorist', 'terry', 'tessy', 'test', 'testing', 'tests', 'tex', 'texas', 'text', 'text82228', 'textbuddy', 'textcomp', 'texted', 'texting', 'textoperator', 'textpod', 'texts', 'th', 'than', 'thandiyachu', 'thangam', 'thank', 'thanks', 'thanks2', 'thanksgiving', 'thankyou', 'thanx', 'that', 'that2worzels', 'thatmum', 'thats', 'thatåõs', 'thatåõscool', 'the', 'theater', 'theatre', 'thedailydraw', 'their', 'theirs', 'thekingshead', 'them', 'themed', 'themes', 'themob', 'then', 'theory', 'theplace', 'there', 'theres', 'these', 'thesedays', 'thesis', 'thet', 'they', 'theyre', 'thgt', 'thia', 'thin', 'thing', 'things', 'think', 'thinked', 'thinkin', 'thinking', 'thinks', 'thinkthis', 'thinl', 'thirtyeight', 'thirunelvali', 'this', 'thk', 'thkin', 'thm', 'thnk', 'thnq', 'thnx', 'tho', 'those', 'thot', 'though', 'thought', 'thoughts', 'thousands', 'thout', 'thread', 'threats', 'three', 'thriller', 'throat', 'through', 'throw', 'throwin', 'throwing', 'thrown', 'throws', 'thru', 'ths', 'tht', 'thts', 'thuglyfe', 'thurs', 'thursday', 'thus', 'thx', 'tick', 'ticket', 'tickets', 'tie', 'tiempo', 'tiger', 'tight', 'tightly', 'tigress', 'tihs', 'til', 'till', 'time', 'times', 'timin', 'timing', 'timings', 'tip', 'tips', 'tired', 'tiring', 'tirunelvali', 'tirupur', 'tis', 'tissco', 'title', 'titles', 'tiwary', 'tix', 'tiz', 'tke', 'tkts', 'tlk', 'tlp', 'tm', 'tming', 'tmorow', 'tmorrow', 'tmr', 'tmrw', 'tms', 'tmw', 'tnc', 'tncs', 'to', 'toa', 'toaday', 'tobacco', 'tobed', 'tocall', 'toclaim', 'today', 'todays', 'todo', 'tog', 'together', 'tok', 'token', 'toking', 'told', 'toledo', 'tolerance', 'toll', 'tom', 'tomarrow', 'tomeandsaid', 'tomo', 'tomorro', 'tomorrow', 'tomorw', 'tone', 'tones', 'tones2u', 'tones2you', 'tonexs', 'tonght', 'tongued', 'tonight', 'tonights', 'tonite', 'tons', 'too', 'took', 'tookplace', 'tool', 'tooo', 'toot', 'tooth', 'toothpaste', 'tootsie', 'top', 'topic', 'toplay', 'toppoly', 'tops', 'tor', 'torch', 'torrents', 'torture', 'tosend', 'toshiba', 'toss', 'tot', 'total', 'totally', 'totes', 'touch', 'touched', 'tough', 'tour', 'towards', 'town', 'toxic', 'toyota', 'tp', 'track', 'trackmarque', 'trade', 'traditions', 'traffic', 'train', 'trained', 'training', 'trainners', 'trains', 'tram', 'tranquility', 'transaction', 'transcribing', 'transfer', 'transferred', 'transfr', 'transfred', 'transport', 'trash', 'trauma', 'trav', 'travel', 'travelled', 'travelling', 'treacle', 'treadmill', 'treasure', 'treat', 'treated', 'treatin', 'trebles', 'tree', 'trek', 'trends', 'trial', 'tried', 'trip', 'trips', 'trishul', 'triumphed', 'trivia', 'tron', 'trouble', 'trouser', 'true', 'true18', 'truffles', 'truly', 'truro', 'trust', 'trusting', 'truth', 'try', 'tryin', 'trying', 'ts', 'tsandcs', 'tscs', 'tscs08714740323', 'tscs087147403231winawk', 'tsunamis', 'tt', 'ttyl', 'tue', 'tues', 'tuesday', 'tui', 'tuition', 'tulip', 'tunde', 'tune', 'tunji', 'turkeys', 'turn', 'turned', 'turning', 'turns', 'tuth', 'tv', 'twelve', 'twenty', 'twice', 'twilight', 'twinks', 'twittering', 'two', 'txt', 'txt250', 'txt43', 'txt82228', 'txtauction', 'txtin', 'txting', 'txtno', 'txts', 'txtstar', 'txtstop', 'txttowin', 'txtx', 'tyler', 'type', 'types', 'tyrone', 'u4', 'uawake', 'ubandu', 'ubi', 'ud', 'ugadi', 'ugh', 'ugo', 'uh', 'uhhhhrmm', 'uin', 'uk', 'uks', 'ultimately', 'ultimatum', 'um', 'umma', 'ummifying', 'ummma', 'ummmmmaah', 'un', 'unable', 'unbelievable', 'unbreakable', 'unclaimed', 'uncle', 'uncles', 'uncomfortable', 'unconscious', 'unconsciously', 'uncut', 'under', 'understand', 'understanding', 'understood', 'underwear', 'undrstndng', 'unemployed', 'unfolds', 'unfortunately', 'unfortuntly', 'unhappiness', 'unhappy', 'uni', 'uniform', 'unintentional', 'unique', 'units', 'univ', 'university', 'unkempt', 'unknown', 'unless', 'unlike', 'unlimited', 'unmits', 'unnecessarily', 'unredeemed', 'unsecured', 'unsold', 'unsub', 'unsubscribe', 'unsubscribed', 'untamed', 'until', 'unusual', 'up', 'up4', 'upcharge', 'upd8', 'updat', 'update', 'update_now', 'upgrade', 'upgrading', 'upgrdcentre', 'upload', 'uploaded', 'upset', 'upstairs', 'upto', 'ur', 'urawinner', 'ure', 'urfeeling', 'urgent', 'urgently', 'urgnt', 'urgoin', 'urination', 'url', 'urmom', 'urn', 'urself', 'us', 'usb', 'usc', 'use', 'used', 'useful', 'useless', 'user', 'uses', 'usf', 'using', 'usual', 'usually', 'uterus', 'utter', 'uttered', 'uup', 'uv', 'uworld', 'va', 'vaazhthukkal', 'vague', 'vale', 'valentine', 'valentines', 'valid', 'valid12hrs', 'valuable', 'value', 'valued', 'values', 'vargu', 'various', 'varma', 'varunnathu', 'vary', 'vasai', 'vat', 'vatian', 'vava', 'vco', 'vday', 've', 'vegas', 'vegetables', 'veggie', 'vehicle', 'venaam', 'venugopal', 'verified', 'version', 'very', 'vettam', 'vewy', 'via', 'vibrant', 'vibrate', 'vibrator', 'vic', 'victoria', 'video', 'videochat', 'videophones', 'videos', 'videosound', 'videosounds', 'view', 'vijay', 'vikky', 'villa', 'village', 'vinobanagar', 'violated', 'violence', 'violet', 'vip', 'vipclub4u', 'virgil', 'virgin', 'virgins', 'virtual', 'visa', 'visionsms', 'visit', 'vital', 'vitamin', 'viva', 'vivek', 'vl', 'voda', 'vodafone', 'vodka', 'voice', 'voicemail', 'voila', 'volcanoes', 'vomit', 'vomitin', 'vote', 'voted', 'voucher', 'vouchers', 'vpod', 'vry', 'vs', 'vth', 'vu', 'w1', 'w111wx', 'w14rg', 'w1a', 'w1j', 'w1j6hl', 'w1jhl', 'w1t1jy', 'w4', 'w45wq', 'w8in', 'wa', 'wa14', 'waaaat', 'wadebridge', 'wah', 'wahala', 'wahay', 'waheed', 'waheeda', 'waht', 'wait', 'waited', 'waitin', 'waiting', 'wake', 'waking', 'wales', 'walk', 'walkabout', 'walked', 'walkin', 'walking', 'walks', 'wallpaper', 'walls', 'walmart', 'walsall', 'wamma', 'wan', 'wan2', 'wana', 'wanna', 'wannatell', 'want', 'want2come', 'wanted', 'wanting', 'wants', 'wap', 'waqt', 'warm', 'warming', 'warned', 'warner', 'warning', 'warranty', 'warwick', 'was', 'washob', 'wasn', 'wasnt', 'waste', 'wasted', 'wasting', 'wat', 'watch', 'watched', 'watches', 'watchin', 'watching', 'watchng', 'water', 'watever', 'watevr', 'wating', 'watr', 'wats', 'watts', 'wavering', 'waves', 'way', 'way2sms', 'waz', 'wc1n', 'wc1n3xx', 'we', 'weak', 'weapon', 'wear', 'wearing', 'weaseling', 'weasels', 'weather', 'web', 'web2mobile', 'webadres', 'webeburnin', 'website', 'wed', 'wedding', 'weddingfriend', 'wednesday', 'wee', 'weed', 'week', 'weekdays', 'weekend', 'weekends', 'weekly', 'weeks', 'weigh', 'weighed', 'weight', 'weird', 'weirdest', 'weirdy', 'welcome', 'welcomes', 'well', 'welp', 'wen', 'wendy', 'wenever', 'went', 'wenwecan', 'wer', 'were', 'werebored', 'weren', 'wesley', 'wesleys', 'west', 'western', 'westlife', 'westonzoyland', 'westshore', 'wet', 'wetherspoons', 'wewa', 'weåõve', 'whassup', 'what', 'whatever', 'whats', 'whatsup', 'wheat', 'wheel', 'when', 'whenever', 'whenevr', 'whens', 'where', 'whereare', 'wherever', 'wherevr', 'wherre', 'whether', 'which', 'while', 'whilltake', 'whispers', 'white', 'whn', 'who', 'whole', 'whom', 'whore', 'whos', 'whose', 'whr', 'why', 'wi', 'wicket', 'wicklow', 'wid', 'widelive', 'wif', 'wife', 'wifes', 'wifi', 'wihtuot', 'wil', 'wild', 'wildlife', 'will', 'willing', 'win', 'wind', 'window', 'windows', 'winds', 'windy', 'wine', 'wined', 'wings', 'wining', 'winner', 'winning', 'wins', 'wipro', 'wire3', 'wisdom', 'wise', 'wish', 'wisheds', 'wishes', 'wishin', 'wishing', 'wishlist', 'wiskey', 'wit', 'with', 'wither', 'within', 'without', 'witot', 'witout', 'wiv', 'wizzle', 'wk', 'wkend', 'wkent', 'wkg', 'wkly', 'wknd', 'wks', 'wld', 'wml', 'wn', 'wnevr', 'wnt', 'wo', 'woah', 'wocay', 'woke', 'woken', 'woman', 'womdarfull', 'women', 'won', 'wondar', 'wondarfull', 'wonder', 'wonderful', 'wondering', 'wonders', 'wont', 'woodland', 'woods', 'woohoo', 'woot', 'woould', 'woozles', 'worc', 'word', 'words', 'work', 'workage', 'workand', 'workin', 'working', 'works', 'world', 'worlds', 'worms', 'worried', 'worries', 'worry', 'worse', 'worst', 'worth', 'worthless', 'wot', 'wotz', 'woul', 'would', 'woulda', 'wouldn', 'wounds', 'wow', 'wrc', 'wrecked', 'wrenching', 'wright', 'write', 'wrk', 'wrkin', 'wrking', 'wrks', 'wrld', 'wrnog', 'wrong', 'wrongly', 'wrote', 'ws', 'wt', 'wtf', 'wth', 'wthout', 'wtlp', 'wud', 'wudn', 'wuld', 'wuldnt', 'wun', 'www', 'wylie', 'x2', 'x49', 'xafter', 'xam', 'xavier', 'xchat', 'xclusive', 'xin', 'xmas', 'xoxo', 'xt', 'xuhui', 'xx', 'xxsp', 'xxx', 'xxxx', 'xxxxx', 'xxxxxxxxxxxxxx', 'xy', 'y87', 'ya', 'yah', 'yahoo', 'yalrigu', 'yalru', 'yam', 'yan', 'yar', 'yarasu', 'yards', 'yavnt', 'yaxx', 'yay', 'yeah', 'year', 'years', 'yeesh', 'yeh', 'yelling', 'yellow', 'yelow', 'yen', 'yeovil', 'yep', 'yer', 'yes', 'yest', 'yesterday', 'yet', 'yetty', 'yetunde', 'yhl', 'yi', 'yijue', 'ym', 'yo', 'yoga', 'yogasana', 'yor', 'yorge', 'you', 'youi', 'young', 'younger', 'youphone', 'your', 'youre', 'yourinclusive', 'yourjob', 'yours', 'yourself', 'youuuuu', 'youwanna', 'youåõre', 'yoville', 'yoyyooo', 'yr', 'yrs', 'ything', 'yummy', 'yun', 'yuo', 'yuou', 'yup', 'yupz', 'zac', 'zealand', 'zebra', 'zed', 'zeros', 'zhong', 'zindgi', 'zoe', 'zouk', 'zyada', 'åè10', 'åð', 'åòit', 'åôrents', 'ì_', 'ì¼1', 'ìï', 'ó_', 'û_', 'û_thanks', 'ûï', 'ûïharry', 'ûò', 'ûówell']\n"
     ]
    },
    {
     "data": {
      "text/plain": [
       "'com1win150ppmx3age16subscription'"
      ]
     },
     "execution_count": 6,
     "metadata": {},
     "output_type": "execute_result"
    }
   ],
   "source": [
    "answer_two()"
   ]
  },
  {
   "cell_type": "markdown",
   "metadata": {},
   "source": [
    "### Question 3\n",
    "\n",
    "Fit and transform the training data `X_train` using a Count Vectorizer with default parameters.\n",
    "\n",
    "Next, fit a fit a multinomial Naive Bayes classifier model with smoothing `alpha=0.1`. Find the area under the curve (AUC) score using the transformed test data.\n",
    "\n",
    "*This function should return the AUC score as a float.*"
   ]
  },
  {
   "cell_type": "code",
   "execution_count": 7,
   "metadata": {},
   "outputs": [],
   "source": [
    "from sklearn.naive_bayes import MultinomialNB\n",
    "from sklearn.metrics import roc_auc_score\n",
    "from sklearn.feature_extraction.text import CountVectorizer\n",
    "\n",
    "def answer_three():\n",
    "    vect = CountVectorizer().fit(X_train)\n",
    "    X_train_vectorized = vect.transform(X_train)\n",
    "    \n",
    "    clf = MultinomialNB(alpha = 0.1).fit(X_train_vectorized, y_train)\n",
    "    X_test_vect= vect.transform(X_test)\n",
    "    \n",
    "    pred = clf.predict(X_test_vect)\n",
    "    res = roc_auc_score(y_test, pred)\n",
    "    print((y_test))\n",
    "    print((pred))\n",
    "    return res"
   ]
  },
  {
   "cell_type": "code",
   "execution_count": 8,
   "metadata": {},
   "outputs": [
    {
     "name": "stdout",
     "output_type": "stream",
     "text": [
      "4456    0\n",
      "690     0\n",
      "944     0\n",
      "3768    0\n",
      "1189    0\n",
      "       ..\n",
      "1889    0\n",
      "2250    0\n",
      "2915    0\n",
      "1282    0\n",
      "1206    1\n",
      "Name: target, Length: 1393, dtype: int32\n",
      "[0 0 0 ... 0 0 1]\n"
     ]
    },
    {
     "data": {
      "text/plain": [
       "0.9720812182741116"
      ]
     },
     "execution_count": 8,
     "metadata": {},
     "output_type": "execute_result"
    }
   ],
   "source": [
    "answer_three()"
   ]
  },
  {
   "cell_type": "markdown",
   "metadata": {},
   "source": [
    "### Question 4\n",
    "\n",
    "Fit and transform the training data `X_train` using a Tfidf Vectorizer with default parameters.\n",
    "\n",
    "What 20 features have the smallest tf-idf and what 20 have the largest tf-idf?\n",
    "\n",
    "Put these features in a two series where each series is sorted by tf-idf value and then alphabetically by feature name. The index of the series should be the feature name, and the data should be the tf-idf.\n",
    "\n",
    "The series of 20 features with smallest tf-idfs should be sorted smallest tfidf first, the list of 20 features with largest tf-idfs should be sorted largest first. \n",
    "\n",
    "*This function should return a tuple of two series\n",
    "`(smallest tf-idfs series, largest tf-idfs series)`.*"
   ]
  },
  {
   "cell_type": "code",
   "execution_count": 9,
   "metadata": {},
   "outputs": [],
   "source": [
    "from sklearn.feature_extraction.text import TfidfVectorizer\n",
    "\n",
    "def answer_four():\n",
    "    \n",
    "    vect = TfidfVectorizer().fit(X_train)\n",
    "    X_train_vectorized = vect.transform(X_train)\n",
    "    \n",
    "    arr = X_train_vectorized.max(0).toarray()[0]\n",
    "    feature_names = np.array(vect.get_feature_names())\n",
    "    \n",
    "    sorted_tfidf_index = X_train_vectorized.max(0).toarray()[0].argsort()\n",
    "    \n",
    "    largest = feature_names[sorted_tfidf_index[:20]]\n",
    "    smallest = feature_names[sorted_tfidf_index[-20:]]\n",
    "    \n",
    "  \n",
    "    serlarg = pd.Series(arr[sorted_tfidf_index[:20]],largest)\n",
    "    sersmall = pd.Series(arr[sorted_tfidf_index[-20:]],smallest)\n",
    "\n",
    "    \n",
    "    serlarg = serlarg.sort_index()\n",
    "    sersmall = sersmall.sort_index()\n",
    "    \n",
    "    serlarg.index.name=None\n",
    "    sersmall.index.name=None\n",
    "\n",
    "    \n",
    "    return (serlarg,sersmall)"
   ]
  },
  {
   "cell_type": "code",
   "execution_count": 10,
   "metadata": {},
   "outputs": [
    {
     "data": {
      "text/plain": [
       "(aaniye          0.074475\n",
       " athletic        0.074475\n",
       " chef            0.074475\n",
       " companion       0.074475\n",
       " courageous      0.074475\n",
       " dependable      0.074475\n",
       " determined      0.074475\n",
       " diwali          0.091250\n",
       " exterminator    0.074475\n",
       " healer          0.074475\n",
       " listener        0.074475\n",
       " mornings        0.091250\n",
       " organizer       0.074475\n",
       " pest            0.074475\n",
       " psychiatrist    0.074475\n",
       " psychologist    0.074475\n",
       " pudunga         0.074475\n",
       " stylist         0.074475\n",
       " sympathetic     0.074475\n",
       " venaam          0.074475\n",
       " dtype: float64,\n",
       " 146tf150p    1.000000\n",
       " 645          1.000000\n",
       " anything     1.000000\n",
       " anytime      1.000000\n",
       " beerage      1.000000\n",
       " blank        0.932702\n",
       " done         1.000000\n",
       " er           1.000000\n",
       " havent       1.000000\n",
       " home         1.000000\n",
       " lei          1.000000\n",
       " nite         1.000000\n",
       " ok           1.000000\n",
       " okie         1.000000\n",
       " thank        1.000000\n",
       " thanx        1.000000\n",
       " tick         0.980166\n",
       " too          1.000000\n",
       " where        1.000000\n",
       " yup          1.000000\n",
       " dtype: float64)"
      ]
     },
     "execution_count": 10,
     "metadata": {},
     "output_type": "execute_result"
    }
   ],
   "source": [
    "answer_four()"
   ]
  },
  {
   "cell_type": "markdown",
   "metadata": {},
   "source": [
    "### Question 5\n",
    "\n",
    "Fit and transform the training data `X_train` using a Tfidf Vectorizer ignoring terms that have a document frequency strictly lower than **3**.\n",
    "\n",
    "Then fit a multinomial Naive Bayes classifier model with smoothing `alpha=0.1` and compute the area under the curve (AUC) score using the transformed test data.\n",
    "\n",
    "*This function should return the AUC score as a float.*"
   ]
  },
  {
   "cell_type": "code",
   "execution_count": 11,
   "metadata": {},
   "outputs": [],
   "source": [
    "from sklearn.feature_extraction.text import TfidfVectorizer\n",
    "from sklearn.naive_bayes import MultinomialNB\n",
    "from sklearn.metrics import roc_auc_score\n",
    "\n",
    "def answer_five():\n",
    "\n",
    "    vect = TfidfVectorizer(min_df=3).fit(X_train)  \n",
    "    \n",
    "    X_train_vectorized = vect.transform(X_train)\n",
    "    \n",
    "    clf = MultinomialNB(alpha = 0.1).fit(X_train_vectorized, y_train)\n",
    "    X_test_vect= vect.transform(X_test)\n",
    "    \n",
    "    pred = clf.predict(X_test_vect)\n",
    "\n",
    "    \n",
    "    return roc_auc_score(y_test, pred)\n"
   ]
  },
  {
   "cell_type": "code",
   "execution_count": 12,
   "metadata": {},
   "outputs": [
    {
     "data": {
      "text/plain": [
       "0.9416243654822335"
      ]
     },
     "execution_count": 12,
     "metadata": {},
     "output_type": "execute_result"
    }
   ],
   "source": [
    "answer_five()"
   ]
  },
  {
   "cell_type": "markdown",
   "metadata": {},
   "source": [
    "### Question 6\n",
    "\n",
    "What is the average length of documents (number of characters) for not spam and spam documents?\n",
    "\n",
    "*This function should return a tuple (average length not spam, average length spam).*"
   ]
  },
  {
   "cell_type": "code",
   "execution_count": 13,
   "metadata": {},
   "outputs": [],
   "source": [
    "def answer_six():\n",
    "    \n",
    "    x = spam_data[spam_data['target'] == 1]\n",
    "    \n",
    "    x['textlen'] = x['text'].str.len()\n",
    "    \n",
    "    bux = x['textlen'].sum(axis = 0, skipna = True)\n",
    "    \n",
    "    \n",
    "    \n",
    "    \n",
    "    y = spam_data[spam_data['target'] == 0]\n",
    "    \n",
    "    y['textlen'] = y['text'].str.len()\n",
    "   \n",
    "    buy = y['textlen'].sum(axis = 0, skipna = True)\n",
    "    \n",
    "    return (buy/len(y) , bux/len(x))"
   ]
  },
  {
   "cell_type": "code",
   "execution_count": 14,
   "metadata": {},
   "outputs": [
    {
     "name": "stderr",
     "output_type": "stream",
     "text": [
      "<ipython-input-13-fae14f50cd0f>:5: SettingWithCopyWarning: \n",
      "A value is trying to be set on a copy of a slice from a DataFrame.\n",
      "Try using .loc[row_indexer,col_indexer] = value instead\n",
      "\n",
      "See the caveats in the documentation: https://pandas.pydata.org/pandas-docs/stable/user_guide/indexing.html#returning-a-view-versus-a-copy\n",
      "  x['textlen'] = x['text'].str.len()\n",
      "<ipython-input-13-fae14f50cd0f>:14: SettingWithCopyWarning: \n",
      "A value is trying to be set on a copy of a slice from a DataFrame.\n",
      "Try using .loc[row_indexer,col_indexer] = value instead\n",
      "\n",
      "See the caveats in the documentation: https://pandas.pydata.org/pandas-docs/stable/user_guide/indexing.html#returning-a-view-versus-a-copy\n",
      "  y['textlen'] = y['text'].str.len()\n"
     ]
    },
    {
     "data": {
      "text/plain": [
       "(71.02362694300518, 138.8661311914324)"
      ]
     },
     "execution_count": 14,
     "metadata": {},
     "output_type": "execute_result"
    }
   ],
   "source": [
    "answer_six()"
   ]
  },
  {
   "cell_type": "markdown",
   "metadata": {},
   "source": [
    "<br>\n",
    "<br>\n",
    "The following function has been provided to help you combine new features into the training data:"
   ]
  },
  {
   "cell_type": "code",
   "execution_count": 15,
   "metadata": {},
   "outputs": [],
   "source": [
    "def add_feature(X, feature_to_add):\n",
    "    \"\"\"\n",
    "    Returns sparse feature matrix with added feature.\n",
    "    feature_to_add can also be a list of features.\n",
    "    \"\"\"\n",
    "    from scipy.sparse import csr_matrix, hstack\n",
    "    return hstack([X, csr_matrix(feature_to_add).T], 'csr')"
   ]
  },
  {
   "cell_type": "markdown",
   "metadata": {},
   "source": [
    "### Question 7\n",
    "\n",
    "Fit and transform the training data X_train using a Tfidf Vectorizer ignoring terms that have a document frequency strictly lower than **5**.\n",
    "\n",
    "Using this document-term matrix and an additional feature, **the length of document (number of characters)**, fit a Support Vector Classification model with regularization `C=10000`. Then compute the area under the curve (AUC) score using the transformed test data.\n",
    "\n",
    "*This function should return the AUC score as a float.*"
   ]
  },
  {
   "cell_type": "code",
   "execution_count": 16,
   "metadata": {},
   "outputs": [],
   "source": [
    "from sklearn.svm import SVC\n",
    "import numpy as np\n",
    "\n",
    "def answer_seven():\n",
    "    \n",
    "    spam_data['textlen'] = spam_data['text'].str.len()\n",
    "    \n",
    "    arr = (spam_data[['textlen']])\n",
    "    \n",
    "    X_trainn, X_testt, y_trainn, y_testt = train_test_split(spam_data['textlen'], \n",
    "                                                    spam_data['target'], \n",
    "                                                    random_state=0)\n",
    "    \n",
    "   \n",
    "    vect = TfidfVectorizer(min_df=5).fit(X_train)  \n",
    "    \n",
    "    X_train_vectorized = vect.transform(X_train)\n",
    "    \n",
    "    X_train_vect = add_feature(X_train_vectorized, X_trainn)\n",
    "    \n",
    "    \n",
    "    \n",
    "    \n",
    "    X_test_vectorized= vect.transform(X_test)\n",
    "    \n",
    "    X_test_vect = add_feature(X_test_vectorized, X_testt)\n",
    "    \n",
    "\n",
    "    \n",
    "\n",
    "    clf = SVC(C = 10000)\n",
    "    \n",
    "    clf.fit(X_train_vect, y_train)\n",
    "    \n",
    "    res = clf.predict(X_test_vect)\n",
    "    \n",
    "  \n",
    "    \n",
    "    \n",
    "    return roc_auc_score(y_test, res)"
   ]
  },
  {
   "cell_type": "code",
   "execution_count": 17,
   "metadata": {},
   "outputs": [
    {
     "data": {
      "text/plain": [
       "0.9661689557407943"
      ]
     },
     "execution_count": 17,
     "metadata": {},
     "output_type": "execute_result"
    }
   ],
   "source": [
    "answer_seven()"
   ]
  },
  {
   "cell_type": "markdown",
   "metadata": {},
   "source": [
    "### Question 8\n",
    "\n",
    "What is the average number of digits per document for not spam and spam documents?\n",
    "\n",
    "*This function should return a tuple (average # digits not spam, average # digits spam).*"
   ]
  },
  {
   "cell_type": "code",
   "execution_count": 18,
   "metadata": {},
   "outputs": [],
   "source": [
    "def answer_eight():\n",
    "    \n",
    "    def count_digits(string):\n",
    "        \n",
    "        return sum(item.isdigit() for item in string)\n",
    "        \n",
    "    x = spam_data[spam_data['target'] == 1]\n",
    "    \n",
    "    x['dig'] = x['text'].apply(count_digits)\n",
    "    \n",
    "    bux = x['dig'].sum(axis = 0, skipna = True)\n",
    "    \n",
    "    \n",
    "    \n",
    "    \n",
    "    y = spam_data[spam_data['target'] == 0]\n",
    "    \n",
    "    y['dig'] = y['text'].apply(count_digits)\n",
    "   \n",
    "    buy = y['dig'].sum(axis = 0, skipna = True)\n",
    "    \n",
    "    \n",
    "    return (buy/len(y) , bux/len(x))\n",
    "    \n"
   ]
  },
  {
   "cell_type": "code",
   "execution_count": 19,
   "metadata": {},
   "outputs": [
    {
     "name": "stderr",
     "output_type": "stream",
     "text": [
      "<ipython-input-18-1e449e871343>:9: SettingWithCopyWarning: \n",
      "A value is trying to be set on a copy of a slice from a DataFrame.\n",
      "Try using .loc[row_indexer,col_indexer] = value instead\n",
      "\n",
      "See the caveats in the documentation: https://pandas.pydata.org/pandas-docs/stable/user_guide/indexing.html#returning-a-view-versus-a-copy\n",
      "  x['dig'] = x['text'].apply(count_digits)\n",
      "<ipython-input-18-1e449e871343>:18: SettingWithCopyWarning: \n",
      "A value is trying to be set on a copy of a slice from a DataFrame.\n",
      "Try using .loc[row_indexer,col_indexer] = value instead\n",
      "\n",
      "See the caveats in the documentation: https://pandas.pydata.org/pandas-docs/stable/user_guide/indexing.html#returning-a-view-versus-a-copy\n",
      "  y['dig'] = y['text'].apply(count_digits)\n"
     ]
    },
    {
     "data": {
      "text/plain": [
       "(0.2992746113989637, 15.759036144578314)"
      ]
     },
     "execution_count": 19,
     "metadata": {},
     "output_type": "execute_result"
    }
   ],
   "source": [
    "answer_eight()"
   ]
  },
  {
   "cell_type": "markdown",
   "metadata": {},
   "source": [
    "### Question 9\n",
    "\n",
    "Fit and transform the training data `X_train` using a Tfidf Vectorizer ignoring terms that have a document frequency strictly lower than **5** and using **word n-grams from n=1 to n=3** (unigrams, bigrams, and trigrams).\n",
    "\n",
    "Using this document-term matrix and the following additional features:\n",
    "* the length of document (number of characters)\n",
    "* **number of digits per document**\n",
    "\n",
    "fit a Logistic Regression model with regularization `C=100`. Then compute the area under the curve (AUC) score using the transformed test data.\n",
    "\n",
    "*This function should return the AUC score as a float.*"
   ]
  },
  {
   "cell_type": "code",
   "execution_count": 20,
   "metadata": {},
   "outputs": [],
   "source": [
    "from sklearn.linear_model import LogisticRegression\n",
    "\n",
    "def answer_nine(): \n",
    "    \n",
    "    def count_digits(string):\n",
    "        \n",
    "        return sum(item.isdigit() for item in string)\n",
    "    \n",
    "    spam_data['dig'] = spam_data['text'].apply(count_digits)\n",
    "    spam_data['textlen'] = spam_data['text'].str.len()\n",
    "    X = spam_data[['dig','textlen']]\n",
    "    \n",
    "    \n",
    "    X_trainn, X_testt, y_trainn, y_testt = train_test_split(X, \n",
    "                                                    spam_data['target'], \n",
    "                                                    random_state=0)\n",
    "    \n",
    "    \n",
    "    vect = CountVectorizer(min_df=5, ngram_range=(1,3)).fit(X_train)\n",
    "    \n",
    "    X_train_vectorized = vect.transform(X_train)\n",
    "    \n",
    "    X_train_vect = add_feature(X_train_vectorized, X_trainn['dig'])\n",
    "    X_train_vect = add_feature(X_train_vect, X_trainn['textlen'])\n",
    "    \n",
    "    \n",
    "    \n",
    "    \n",
    "    X_test_vectorized = vect.transform(X_test)\n",
    "    \n",
    "    X_test_vect = add_feature(X_test_vectorized, X_testt['dig'])\n",
    "    X_test_vect = add_feature(X_test_vect, X_testt['textlen'])\n",
    "    \n",
    "    \n",
    "\n",
    "\n",
    "    clf = LogisticRegression(C = 100)\n",
    "    \n",
    "    clf.fit(X_train_vect, y_train)\n",
    "   \n",
    "    res = clf.predict(X_test_vect)\n",
    "       \n",
    "    \n",
    "    return (res)\n",
    "    \n",
    "\n",
    "    \n"
   ]
  },
  {
   "cell_type": "code",
   "execution_count": 21,
   "metadata": {},
   "outputs": [
    {
     "name": "stderr",
     "output_type": "stream",
     "text": [
      "C:\\Users\\admin\\anaconda3\\lib\\site-packages\\sklearn\\linear_model\\_logistic.py:763: ConvergenceWarning: lbfgs failed to converge (status=1):\n",
      "STOP: TOTAL NO. of ITERATIONS REACHED LIMIT.\n",
      "\n",
      "Increase the number of iterations (max_iter) or scale the data as shown in:\n",
      "    https://scikit-learn.org/stable/modules/preprocessing.html\n",
      "Please also refer to the documentation for alternative solver options:\n",
      "    https://scikit-learn.org/stable/modules/linear_model.html#logistic-regression\n",
      "  n_iter_i = _check_optimize_result(\n"
     ]
    },
    {
     "data": {
      "text/plain": [
       "array([0, 0, 0, ..., 0, 0, 1])"
      ]
     },
     "execution_count": 21,
     "metadata": {},
     "output_type": "execute_result"
    }
   ],
   "source": [
    "answer_nine()"
   ]
  },
  {
   "cell_type": "markdown",
   "metadata": {},
   "source": [
    "### Question 10\n",
    "\n",
    "What is the average number of non-word characters (anything other than a letter, digit or underscore) per document for not spam and spam documents?\n",
    "\n",
    "*Hint: Use `\\w` and `\\W` character classes*\n",
    "\n",
    "*This function should return a tuple (average # non-word characters not spam, average # non-word characters spam).*"
   ]
  },
  {
   "cell_type": "code",
   "execution_count": 22,
   "metadata": {},
   "outputs": [],
   "source": [
    "def answer_ten():\n",
    "    \n",
    "    spam_data['nonword'] = spam_data['text'].str.findall(r'[^a-zA-Z0-9 ]').str.len()\n",
    "    \n",
    "    x = spam_data[spam_data['target'] == 1]\n",
    "    \n",
    "    x['nonword'] = x['text'].str.findall(r'[\\W]').str.len()\n",
    "\n",
    "    bux = x['nonword'].sum(axis = 0, skipna = True)\n",
    "    \n",
    "    \n",
    "    \n",
    "    \n",
    "    y = spam_data[spam_data['target'] == 0]\n",
    "    \n",
    "    y['nonword'] = y['text'].str.findall(r'[\\W]').str.len()\n",
    "\n",
    "    buy = y['nonword'].sum(axis = 0, skipna = True)\n",
    "    \n",
    "\n",
    "    return (buy/len(y),bux/len(x))\n",
    "    \n"
   ]
  },
  {
   "cell_type": "code",
   "execution_count": 23,
   "metadata": {},
   "outputs": [
    {
     "name": "stderr",
     "output_type": "stream",
     "text": [
      "<ipython-input-22-37b8da9c7705>:7: SettingWithCopyWarning: \n",
      "A value is trying to be set on a copy of a slice from a DataFrame.\n",
      "Try using .loc[row_indexer,col_indexer] = value instead\n",
      "\n",
      "See the caveats in the documentation: https://pandas.pydata.org/pandas-docs/stable/user_guide/indexing.html#returning-a-view-versus-a-copy\n",
      "  x['nonword'] = x['text'].str.findall(r'[\\W]').str.len()\n",
      "<ipython-input-22-37b8da9c7705>:16: SettingWithCopyWarning: \n",
      "A value is trying to be set on a copy of a slice from a DataFrame.\n",
      "Try using .loc[row_indexer,col_indexer] = value instead\n",
      "\n",
      "See the caveats in the documentation: https://pandas.pydata.org/pandas-docs/stable/user_guide/indexing.html#returning-a-view-versus-a-copy\n",
      "  y['nonword'] = y['text'].str.findall(r'[\\W]').str.len()\n"
     ]
    },
    {
     "data": {
      "text/plain": [
       "(17.29181347150259, 29.041499330655956)"
      ]
     },
     "execution_count": 23,
     "metadata": {},
     "output_type": "execute_result"
    }
   ],
   "source": [
    "answer_ten()"
   ]
  },
  {
   "cell_type": "markdown",
   "metadata": {},
   "source": [
    "### Question 11\n",
    "\n",
    "Fit and transform the training data X_train using a Count Vectorizer ignoring terms that have a document frequency strictly lower than **5** and using **character n-grams from n=2 to n=5.**\n",
    "\n",
    "To tell Count Vectorizer to use character n-grams pass in `analyzer='char_wb'` which creates character n-grams only from text inside word boundaries. This should make the model more robust to spelling mistakes.\n",
    "\n",
    "Using this document-term matrix and the following additional features:\n",
    "* the length of document (number of characters)\n",
    "* number of digits per document\n",
    "* **number of non-word characters (anything other than a letter, digit or underscore.)**\n",
    "\n",
    "fit a Logistic Regression model with regularization C=100. Then compute the area under the curve (AUC) score using the transformed test data.\n",
    "\n",
    "Also **find the 10 smallest and 10 largest coefficients from the model** and return them along with the AUC score in a tuple.\n",
    "\n",
    "The list of 10 smallest coefficients should be sorted smallest first, the list of 10 largest coefficients should be sorted largest first.\n",
    "\n",
    "The three features that were added to the document term matrix should have the following names should they appear in the list of coefficients:\n",
    "['length_of_doc', 'digit_count', 'non_word_char_count']\n",
    "\n",
    "*This function should return a tuple `(AUC score as a float, smallest coefs list, largest coefs list)`.*"
   ]
  },
  {
   "cell_type": "code",
   "execution_count": 24,
   "metadata": {},
   "outputs": [],
   "source": [
    "def answer_eleven():\n",
    "    \n",
    "    \n",
    "    return #Your answer here"
   ]
  },
  {
   "cell_type": "code",
   "execution_count": 25,
   "metadata": {},
   "outputs": [],
   "source": [
    "answer_eleven()"
   ]
  }
 ],
 "metadata": {
  "coursera": {
   "course_slug": "python-text-mining",
   "graded_item_id": "Pn19K",
   "launcher_item_id": "y1juS",
   "part_id": "ctlgo"
  },
  "kernelspec": {
   "display_name": "Python 3",
   "language": "python",
   "name": "python3"
  },
  "language_info": {
   "codemirror_mode": {
    "name": "ipython",
    "version": 3
   },
   "file_extension": ".py",
   "mimetype": "text/x-python",
   "name": "python",
   "nbconvert_exporter": "python",
   "pygments_lexer": "ipython3",
   "version": "3.8.5"
  }
 },
 "nbformat": 4,
 "nbformat_minor": 2
}
